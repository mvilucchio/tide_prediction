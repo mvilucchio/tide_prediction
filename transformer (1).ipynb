{
 "cells": [
  {
   "cell_type": "code",
   "execution_count": 24,
   "id": "12a2d7d8-dbba-4a48-b829-4317e931dba0",
   "metadata": {},
   "outputs": [],
   "source": [
    "import numpy as np\n",
    "import pandas as pd\n",
    "import torch\n",
    "import torch.nn as nn\n",
    "import torchvision.transforms as transforms\n",
    "from torch.utils.data import DataLoader\n",
    "from transformers import ViTFeatureExtractor, ViTModel, ViTConfig\n",
    "from tqdm.notebook import tqdm"
   ]
  },
  {
   "cell_type": "code",
   "execution_count": 25,
   "id": "9906bb04",
   "metadata": {},
   "outputs": [],
   "source": [
    "MODEL_PATH = './data/'"
   ]
  },
  {
   "cell_type": "code",
   "execution_count": 26,
   "id": "f5b05bfc-08fd-44ca-89d0-2e6b1e7bacb4",
   "metadata": {},
   "outputs": [],
   "source": [
    "X_train = np.load('./data/X_train_surge_new.npz')\n",
    "Y_train = pd.read_csv('./data/Y_train_surge.csv')\n",
    "X_test = np.load('./data/X_test_surge_new.npz')"
   ]
  },
  {
   "cell_type": "code",
   "execution_count": 27,
   "id": "ea0ea81c-d343-4018-a459-28f08cb38527",
   "metadata": {},
   "outputs": [
    {
     "data": {
      "text/plain": [
       "array(['id_sequence', 't_slp', 'slp', 't_surge1_input', 'surge1_input',\n",
       "       't_surge2_input', 'surge2_input', 't_surge1_output',\n",
       "       't_surge2_output'], dtype='<U15')"
      ]
     },
     "execution_count": 27,
     "metadata": {},
     "output_type": "execute_result"
    }
   ],
   "source": [
    "np.array(X_train)"
   ]
  },
  {
   "cell_type": "code",
   "execution_count": 28,
   "id": "9d2e1721-b8b6-432e-a0a0-12359cfa4f3f",
   "metadata": {},
   "outputs": [],
   "source": [
    "datalen = X_train['t_slp'].shape[0]"
   ]
  },
  {
   "cell_type": "code",
   "execution_count": 32,
   "id": "60fff55a-a9ff-4cdb-ba8c-28a2520b4b06",
   "metadata": {},
   "outputs": [],
   "source": [
    "X_pressure = X_train['slp'].reshape((datalen, 40, 41, 41))\n",
    "X_surge = np.concatenate([X_train['t_surge1_input'], X_train['surge1_input'], X_train['t_surge1_output']], axis = 1)\n",
    "Y = np.concatenate([np.array(Y_train[f'surge1_t{i}']).reshape((datalen, -1)) for i in range(10)], axis = 1)"
   ]
  },
  {
   "cell_type": "code",
   "execution_count": 33,
   "id": "0f2730f3-e351-4d94-aa24-a76d262365e4",
   "metadata": {},
   "outputs": [],
   "source": [
    "pressure_mean, pressure_std = X_pressure.mean(), X_pressure.std()\n",
    "surge_mean, surge_std = X_surge.mean(), X_surge.std()\n",
    "\n",
    "X_pressure = (X_pressure - pressure_mean)/pressure_std\n",
    "X_surge = (X_surge - surge_mean)/surge_std\n",
    "#Y = (Y - surge_mean)/surge_std"
   ]
  },
  {
   "cell_type": "code",
   "execution_count": 34,
   "id": "cd245a49-faf4-4806-b9c6-7b2305b8f391",
   "metadata": {},
   "outputs": [
    {
     "data": {
      "text/plain": [
       "((5599, 40, 41, 41), (5599, 30), (5599, 10))"
      ]
     },
     "execution_count": 34,
     "metadata": {},
     "output_type": "execute_result"
    }
   ],
   "source": [
    "X_pressure.shape, X_surge.shape, Y.shape"
   ]
  },
  {
   "cell_type": "code",
   "execution_count": 35,
   "id": "dea87c4d-5aa5-4c46-866f-7cc205af68f5",
   "metadata": {},
   "outputs": [],
   "source": [
    "class Model(nn.Module):\n",
    "    def __init__(self, image_size = 41, patch_size = 4, num_channels = 40, encoder_stride = 4):\n",
    "        super(Model, self).__init__()\n",
    "        config = ViTConfig(image_size = 41, patch_size = 4, num_channels = 40, encoder_stride = 4)\n",
    "        self.hidden_size = int((image_size//encoder_stride)**2 + 1) * config.hidden_size\n",
    "        self.ViT = ViTModel(config)\n",
    "        self.linear = nn.Linear(self.hidden_size + 30, 10)\n",
    "        \n",
    "    def forward(self, x):\n",
    "        pressure, surge = x\n",
    "        hidden = self.ViT(pressure).last_hidden_state.reshape(-1, self.hidden_size)\n",
    "        x = torch.concat([hidden, surge], dim = 1)\n",
    "        x = self.linear(x)\n",
    "        return x"
   ]
  },
  {
   "cell_type": "code",
   "execution_count": 36,
   "id": "33e8e845-3d05-4f08-923e-5d77b9dcf01c",
   "metadata": {},
   "outputs": [],
   "source": [
    "model = Model()"
   ]
  },
  {
   "cell_type": "code",
   "execution_count": 37,
   "id": "8f03eb44-eafb-4e2b-a3aa-9c64baf24937",
   "metadata": {},
   "outputs": [],
   "source": [
    "trainlen = int(0.9*datalen)\n",
    "vallen = datalen - trainlen\n",
    "train_idx, val_idx = torch.utils.data.random_split(np.arange(datalen), [trainlen, vallen])"
   ]
  },
  {
   "cell_type": "code",
   "execution_count": 38,
   "id": "9e03a9b3-8f6a-4be7-b2ec-5b54d5833b1f",
   "metadata": {},
   "outputs": [],
   "source": [
    "X_pressure_train, X_pressure_val = X_pressure[train_idx], X_pressure[val_idx]\n",
    "X_surge_train, X_surge_val = X_surge[train_idx], X_surge[val_idx]\n",
    "Y_train, Y_val = Y[train_idx], Y[val_idx]"
   ]
  },
  {
   "cell_type": "code",
   "execution_count": 39,
   "id": "037aa323-66c9-4a9b-b142-92eb32b0d4c8",
   "metadata": {},
   "outputs": [
    {
     "data": {
      "text/plain": [
       "((5039, 40, 41, 41), (5039, 30))"
      ]
     },
     "execution_count": 39,
     "metadata": {},
     "output_type": "execute_result"
    }
   ],
   "source": [
    "X_pressure_train.shape, X_surge_train.shape"
   ]
  },
  {
   "cell_type": "code",
   "execution_count": 40,
   "id": "4c72882c-28d1-4173-8aaa-0d450711967b",
   "metadata": {},
   "outputs": [],
   "source": [
    "train_data = list(zip(X_pressure_train, X_surge_train, Y_train))\n",
    "val_data = list(zip(X_pressure_val, X_surge_val, Y_val))"
   ]
  },
  {
   "cell_type": "code",
   "execution_count": 41,
   "id": "c1057562",
   "metadata": {},
   "outputs": [
    {
     "data": {
      "text/plain": [
       "(5039, 10)"
      ]
     },
     "execution_count": 41,
     "metadata": {},
     "output_type": "execute_result"
    }
   ],
   "source": [
    "Y_train.shape"
   ]
  },
  {
   "cell_type": "code",
   "execution_count": 42,
   "id": "14ef1f1b-0fb4-49ca-b45e-06a749c6c605",
   "metadata": {},
   "outputs": [],
   "source": [
    "batch_size = 8\n",
    "\n",
    "# training and validation data loaders\n",
    "train_loader = DataLoader(\n",
    "    train_data,\n",
    "    batch_size=batch_size,\n",
    "    shuffle=True\n",
    ")\n",
    "val_loader = DataLoader(\n",
    "    val_data,\n",
    "    batch_size=batch_size,\n",
    "    shuffle=False\n",
    ")"
   ]
  },
  {
   "cell_type": "code",
   "execution_count": 43,
   "id": "39bd2169-9ac6-4a6c-9b34-9278f3f8287f",
   "metadata": {},
   "outputs": [],
   "source": [
    "device = torch.device('cuda')"
   ]
  },
  {
   "cell_type": "code",
   "execution_count": 44,
   "id": "ed806355-174b-4ec7-84ce-8810a9d3c0fe",
   "metadata": {},
   "outputs": [],
   "source": [
    "model = model.to(device)"
   ]
  },
  {
   "cell_type": "code",
   "execution_count": 45,
   "id": "33840c84-641a-43d7-86f8-2e5f37b788d1",
   "metadata": {},
   "outputs": [],
   "source": [
    "criterion = nn.MSELoss()\n",
    "optimizer = torch.optim.Adam(model.parameters(), lr=1e-4)"
   ]
  },
  {
   "cell_type": "code",
   "execution_count": 47,
   "id": "dbd2898e-a74f-464e-95f2-27b5541e9aff",
   "metadata": {},
   "outputs": [
    {
     "data": {
      "application/vnd.jupyter.widget-view+json": {
       "model_id": "f59defbf12b146229f80d23e1ea3190e",
       "version_major": 2,
       "version_minor": 0
      },
      "text/plain": [
       "  0%|          | 0/630 [00:00<?, ?it/s]"
      ]
     },
     "metadata": {},
     "output_type": "display_data"
    }
   ],
   "source": [
    "epochs = 15\n",
    "\n",
    "for epoch in range(epochs):\n",
    "    model.train()\n",
    "    for x1, x2, y in tqdm(train_loader, total = len(train_loader), leave=False):\n",
    "        x1, x2, y = x1.to(device), x2.to(device), y.to(device)\n",
    "        x1 = x1.type(torch.cuda.FloatTensor)\n",
    "        x2 = x2.type(torch.cuda.FloatTensor)\n",
    "        y = y.type(torch.cuda.FloatTensor)\n",
    "        optimizer.zero_grad()\n",
    "        pred = model((x1, x2))\n",
    "        loss = criterion(pred, y)\n",
    "        loss.backward()\n",
    "        optimizer.step()\n",
    "    model.eval()\n",
    "    val_loss = 0\n",
    "    p=0\n",
    "    with torch.no_grad():\n",
    "        for x1, x2, y in tqdm(val_loader, total = len(val_loader), leave = False):\n",
    "            x1, x2, y = x1.to(device), x2.to(device), y.to(device)\n",
    "            pred = model((x1, x2))\n",
    "            loss = criterion(pred, y)\n",
    "            val_loss += loss.item()\n",
    "            p+=1\n",
    "    val_loss /= p\n",
    "    print(f'Epoch {epoch+1}: Validation Loss = {val_loss}')\n",
    "        "
   ]
  },
  {
   "cell_type": "code",
   "execution_count": null,
   "id": "5f4ac220-ec98-4bcc-bbbc-bc7a9951f551",
   "metadata": {},
   "outputs": [],
   "source": []
  },
  {
   "cell_type": "code",
   "execution_count": null,
   "id": "8779c10b-c8a3-4c94-b983-147bb1aceccf",
   "metadata": {},
   "outputs": [],
   "source": []
  }
 ],
 "metadata": {
  "kernelspec": {
   "display_name": "Python 3 (ipykernel)",
   "language": "python",
   "name": "python3"
  },
  "language_info": {
   "codemirror_mode": {
    "name": "ipython",
    "version": 3
   },
   "file_extension": ".py",
   "mimetype": "text/x-python",
   "name": "python",
   "nbconvert_exporter": "python",
   "pygments_lexer": "ipython3",
   "version": "3.7.11"
  }
 },
 "nbformat": 4,
 "nbformat_minor": 5
}
