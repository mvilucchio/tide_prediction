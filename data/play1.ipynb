{
 "cells": [
  {
   "cell_type": "code",
   "execution_count": 121,
   "metadata": {},
   "outputs": [],
   "source": [
    "import numpy as np\n",
    "import pandas as pd\n",
    "from sklearn.neighbors import BallTree\n",
    "import matplotlib.pyplot as plt\n",
    "\n",
    "# multivariate multi-step encoder-decoder lstm example\n",
    "from numpy import array\n",
    "from numpy import hstack\n",
    "from keras.models import Sequential\n",
    "from keras.layers import LSTM\n",
    "from keras.layers import Dense\n",
    "from keras.layers import RepeatVector\n",
    "from keras.layers import TimeDistributed"
   ]
  },
  {
   "cell_type": "code",
   "execution_count": 122,
   "metadata": {},
   "outputs": [],
   "source": [
    "X_train = np.load('X_train_surge.npz')\n",
    "Y_train = pd.read_csv('Y_train_surge.csv')\n",
    "X_test = np.load('X_test_surge.npz')"
   ]
  },
  {
   "cell_type": "code",
   "execution_count": 123,
   "metadata": {},
   "outputs": [],
   "source": [
    "surge_train = np.array(Y_train)[:,1:]"
   ]
  },
  {
   "cell_type": "code",
   "execution_count": 124,
   "metadata": {},
   "outputs": [],
   "source": [
    "def surge_prediction_metric(dataframe_y_true, dataframe_y_pred):\n",
    "    weights = np.linspace(1, 0.1, 10)[np.newaxis]\n",
    "    surge1_columns = [\n",
    "        'surge1_t0', 'surge1_t1', 'surge1_t2', 'surge1_t3', 'surge1_t4',\n",
    "        'surge1_t5', 'surge1_t6', 'surge1_t7', 'surge1_t8', 'surge1_t9' ]\n",
    "    surge2_columns = [\n",
    "        'surge2_t0', 'surge2_t1', 'surge2_t2', 'surge2_t3', 'surge2_t4',\n",
    "        'surge2_t5', 'surge2_t6', 'surge2_t7', 'surge2_t8', 'surge2_t9' ]\n",
    "    surge1_score = (weights * (dataframe_y_true[surge1_columns].values - dataframe_y_pred[surge1_columns].values)**2).mean()\n",
    "    surge2_score = (weights * (dataframe_y_true[surge2_columns].values - dataframe_y_pred[surge2_columns].values)**2).mean()\n",
    "\n",
    "    return surge1_score + surge2_score"
   ]
  },
  {
   "cell_type": "code",
   "execution_count": 125,
   "metadata": {},
   "outputs": [],
   "source": [
    "def time_elapsed_hour(time_1, time_2):\n",
    "    return (time_2-time_1)/(3600)"
   ]
  },
  {
   "cell_type": "code",
   "execution_count": 126,
   "metadata": {},
   "outputs": [],
   "source": [
    "slp_train = X_train['slp']\n",
    "t_slp_train = X_train['t_slp']\n",
    "t_surge1_input_train = X_train['t_surge1_input']\n",
    "t_surge2_input_train = X_train['t_surge2_input']\n",
    "surge1_input_train = X_train['surge1_input']\n",
    "surge2_input_train = X_train['surge2_input']\n",
    "t_surge1_output_train = X_train['t_surge1_output']\n",
    "t_surge2_output_train = X_train['t_surge2_output']"
   ]
  },
  {
   "cell_type": "code",
   "execution_count": 127,
   "metadata": {},
   "outputs": [],
   "source": [
    "def format_t(data):\n",
    "    new_set = set()\n",
    "    for j in data:\n",
    "        for i in j:\n",
    "            new_set.add(i)\n",
    "    new_set=sorted(list(new_set))\n",
    "    return new_set\n",
    "    \n",
    "    \n",
    "def format_(data, t_data, t_set):\n",
    "    new_set = np.zeros(len(t_set))\n",
    "    for i in range(data.shape[0]):\n",
    "        for j in range(data.shape[1]):\n",
    "            a = data[i][j]\n",
    "            b = t_data[i][j]\n",
    "            c = t_set.index(b)\n",
    "            new_set[c] = a\n",
    "    return new_set"
   ]
  },
  {
   "cell_type": "code",
   "execution_count": 128,
   "metadata": {},
   "outputs": [],
   "source": [
    "# split a multivariate sequence into samples\n",
    "def split_sequences(sequences, n_steps_in, n_steps_out):\n",
    "\tX, y = list(), list()\n",
    "\tfor i in range(len(sequences)):\n",
    "\t\t# find the end of this pattern\n",
    "\t\tend_ix = i + n_steps_in\n",
    "\t\tout_end_ix = end_ix + n_steps_out\n",
    "\t\t# check if we are beyond the dataset\n",
    "\t\tif out_end_ix > len(sequences):\n",
    "\t\t\tbreak\n",
    "\t\t# gather input and output parts of the pattern\n",
    "\t\tseq_x, seq_y = sequences[i:end_ix, :], sequences[end_ix:out_end_ix, :]\n",
    "\t\tX.append(seq_x)\n",
    "\t\ty.append(seq_y)\n",
    "\treturn array(X), array(y)"
   ]
  },
  {
   "cell_type": "code",
   "execution_count": 129,
   "metadata": {},
   "outputs": [],
   "source": [
    "t_slp_train_set = format_t(t_slp_train)\n",
    "slp_train_set = np.zeros([len(t_slp_train_set), 1681])\n",
    "for i in range(slp_train.shape[0]):\n",
    "    for j in range(slp_train.shape[1]):\n",
    "        t = t_slp_train[i][j]\n",
    "        t_new = t_slp_train_set.index(t)\n",
    "        slp_train_set[t_new] = np.ndarray.flatten(slp_train[i][j]) "
   ]
  },
  {
   "cell_type": "code",
   "execution_count": 104,
   "metadata": {},
   "outputs": [
    {
     "name": "stdout",
     "output_type": "stream",
     "text": [
      "122\n",
      "245\n",
      "367\n",
      "490\n",
      "613\n",
      "735\n",
      "857\n",
      "979\n",
      "1102\n",
      "1225\n",
      "1348\n",
      "1471\n",
      "1594\n",
      "1717\n",
      "1841\n",
      "1964\n",
      "2087\n",
      "2210\n",
      "2333\n",
      "2457\n",
      "2580\n",
      "2703\n",
      "2825\n",
      "2948\n",
      "3071\n",
      "3194\n",
      "3316\n",
      "3438\n",
      "3561\n",
      "3684\n",
      "3807\n",
      "3930\n",
      "4053\n",
      "4176\n",
      "4298\n",
      "4421\n",
      "4544\n",
      "4668\n",
      "4790\n",
      "4912\n",
      "5034\n",
      "5157\n",
      "5280\n",
      "5403\n",
      "5527\n",
      "5650\n",
      "5772\n",
      "5896\n",
      "6019\n",
      "6142\n",
      "6265\n",
      "6388\n",
      "6510\n",
      "6632\n",
      "6754\n",
      "6876\n",
      "6998\n",
      "7121\n",
      "7244\n",
      "7367\n",
      "7490\n",
      "7613\n",
      "7736\n",
      "7859\n",
      "7982\n",
      "8105\n",
      "8228\n",
      "8351\n",
      "8474\n",
      "8596\n",
      "8718\n",
      "8841\n",
      "8964\n",
      "9087\n",
      "9210\n",
      "9333\n",
      "9456\n",
      "9578\n",
      "9701\n",
      "9824\n",
      "9947\n",
      "10069\n",
      "10192\n",
      "10315\n",
      "10438\n",
      "10561\n",
      "10684\n",
      "10807\n",
      "10930\n",
      "11052\n",
      "11174\n",
      "11296\n",
      "11419\n",
      "11542\n",
      "11665\n",
      "11788\n",
      "11911\n",
      "12033\n",
      "12156\n",
      "12279\n",
      "12402\n",
      "12525\n",
      "12647\n",
      "12769\n",
      "12891\n",
      "13014\n",
      "13137\n",
      "13260\n",
      "13383\n",
      "13505\n",
      "13627\n",
      "13749\n",
      "13871\n",
      "13994\n",
      "14117\n",
      "14240\n",
      "14364\n",
      "14486\n",
      "14609\n",
      "14732\n",
      "14855\n",
      "14978\n",
      "15101\n",
      "15224\n",
      "15347\n",
      "15470\n",
      "15593\n",
      "15716\n",
      "15838\n",
      "15961\n",
      "16084\n",
      "16207\n",
      "16330\n",
      "16453\n",
      "16576\n",
      "16699\n",
      "16822\n",
      "16944\n",
      "17067\n",
      "17190\n",
      "17313\n",
      "17436\n",
      "17559\n",
      "17682\n",
      "17805\n",
      "17928\n",
      "18051\n",
      "18174\n",
      "18297\n",
      "18419\n",
      "18543\n",
      "18666\n",
      "18789\n",
      "18912\n",
      "19034\n",
      "19156\n",
      "19279\n",
      "19401\n",
      "19524\n",
      "19647\n",
      "19770\n",
      "19893\n"
     ]
    }
   ],
   "source": [
    "i = 0\n",
    "length = 5000 #len(t_slp_train_set)-1\n",
    "for j in range(length):\n",
    "    if time_elapsed_hour(t_slp_train_set[j], t_slp_train_set[j+1])>3.5:\n",
    "        dataset = slp_train_set[i:j+1]\n",
    "        n_steps_in, n_steps_out = 4, 3\n",
    "        # covert into input/output\n",
    "        X_new, y_new = split_sequences(dataset, n_steps_in, n_steps_out)   \n",
    "        if i == 0:\n",
    "            X = np.array(X_new)\n",
    "            y = np.array(y_new)\n",
    "        else:\n",
    "            X = np.concatenate([X, X_new], axis=0) \n",
    "            y = np.concatenate([y, y_new], axis=0) \n",
    "        i = j + 1\n",
    "        print(j)\n",
    "    else:\n",
    "        continue \n",
    "    "
   ]
  },
  {
   "cell_type": "code",
   "execution_count": 91,
   "metadata": {},
   "outputs": [
    {
     "data": {
      "text/plain": [
       "(8652, 12, 1681)"
      ]
     },
     "execution_count": 91,
     "metadata": {},
     "output_type": "execute_result"
    }
   ],
   "source": [
    "X.shape"
   ]
  },
  {
   "cell_type": "code",
   "execution_count": 105,
   "metadata": {},
   "outputs": [
    {
     "name": "stdout",
     "output_type": "stream",
     "text": [
      "Epoch 1/200\n",
      "577/577 [==============================] - 26s 36ms/step - loss: 1226449024.0000\n",
      "Epoch 2/200\n",
      "577/577 [==============================] - 21s 36ms/step - loss: 1439793.0000\n",
      "Epoch 3/200\n",
      "577/577 [==============================] - 21s 37ms/step - loss: 926072.6875\n",
      "Epoch 4/200\n",
      "577/577 [==============================] - 21s 36ms/step - loss: 862255.8750\n",
      "Epoch 5/200\n",
      "577/577 [==============================] - 20s 35ms/step - loss: 835383.0625\n",
      "Epoch 6/200\n",
      "577/577 [==============================] - 19s 33ms/step - loss: 822005.6875\n",
      "Epoch 7/200\n",
      "577/577 [==============================] - 20s 35ms/step - loss: 814261.1250\n",
      "Epoch 8/200\n",
      "577/577 [==============================] - 19s 33ms/step - loss: 817135.8125\n",
      "Epoch 9/200\n",
      "577/577 [==============================] - 19s 32ms/step - loss: 831150.9375\n",
      "Epoch 10/200\n",
      "577/577 [==============================] - 18s 31ms/step - loss: 847811.3750\n",
      "Epoch 11/200\n",
      "577/577 [==============================] - 18s 32ms/step - loss: 873455.1875\n",
      "Epoch 12/200\n",
      "577/577 [==============================] - 18s 31ms/step - loss: 901698.2500\n",
      "Epoch 13/200\n",
      "577/577 [==============================] - 19s 32ms/step - loss: 1051980.8750\n",
      "Epoch 14/200\n",
      "577/577 [==============================] - 19s 33ms/step - loss: 1130514.1250\n",
      "Epoch 15/200\n",
      "577/577 [==============================] - 20s 34ms/step - loss: 1387755.5000\n",
      "Epoch 16/200\n",
      "577/577 [==============================] - 20s 34ms/step - loss: 1036394.8750\n",
      "Epoch 17/200\n",
      "577/577 [==============================] - 19s 33ms/step - loss: 1129926.8750\n",
      "Epoch 18/200\n",
      "577/577 [==============================] - 21s 36ms/step - loss: 1133771.1250\n",
      "Epoch 19/200\n",
      "577/577 [==============================] - 19s 32ms/step - loss: 1119297.5000\n",
      "Epoch 20/200\n",
      "577/577 [==============================] - 19s 33ms/step - loss: 1096515.0000\n",
      "Epoch 21/200\n",
      "577/577 [==============================] - 20s 35ms/step - loss: 1077696.1250\n",
      "Epoch 22/200\n",
      "577/577 [==============================] - 19s 34ms/step - loss: 1050654.5000\n",
      "Epoch 23/200\n",
      "577/577 [==============================] - 20s 35ms/step - loss: 1047732.8750\n",
      "Epoch 24/200\n",
      "577/577 [==============================] - 19s 34ms/step - loss: 1047471.3750\n",
      "Epoch 25/200\n",
      "577/577 [==============================] - 19s 32ms/step - loss: 1027283.8125\n",
      "Epoch 26/200\n",
      "577/577 [==============================] - 19s 33ms/step - loss: 1003448.0000\n",
      "Epoch 27/200\n",
      "577/577 [==============================] - 20s 34ms/step - loss: 1031844.8750\n",
      "Epoch 28/200\n",
      "577/577 [==============================] - 18s 32ms/step - loss: 965545.1250\n",
      "Epoch 29/200\n",
      "577/577 [==============================] - 17s 30ms/step - loss: 1513825.8750\n",
      "Epoch 30/200\n",
      "577/577 [==============================] - 17s 30ms/step - loss: 841660.6875\n",
      "Epoch 31/200\n",
      "577/577 [==============================] - 19s 33ms/step - loss: 864732.5000\n",
      "Epoch 32/200\n",
      "577/577 [==============================] - 19s 33ms/step - loss: 954140.8125\n",
      "Epoch 33/200\n",
      "577/577 [==============================] - 19s 33ms/step - loss: 928081.3750\n",
      "Epoch 34/200\n",
      "577/577 [==============================] - 19s 33ms/step - loss: 961529.4375\n",
      "Epoch 35/200\n",
      "577/577 [==============================] - 20s 35ms/step - loss: 917373.6875\n",
      "Epoch 36/200\n",
      "577/577 [==============================] - 20s 35ms/step - loss: 912985.0625\n",
      "Epoch 37/200\n",
      "577/577 [==============================] - 19s 33ms/step - loss: 928930.7500\n",
      "Epoch 38/200\n",
      "577/577 [==============================] - 17s 30ms/step - loss: 907745.1875\n",
      "Epoch 39/200\n",
      "577/577 [==============================] - 18s 30ms/step - loss: 900453.5000\n",
      "Epoch 40/200\n",
      "577/577 [==============================] - 18s 31ms/step - loss: 909504.6250\n",
      "Epoch 41/200\n",
      "577/577 [==============================] - 20s 35ms/step - loss: 913414.4375\n",
      "Epoch 42/200\n",
      "577/577 [==============================] - 21s 36ms/step - loss: 916074.1250\n",
      "Epoch 43/200\n",
      "577/577 [==============================] - 18s 32ms/step - loss: 918938.8750\n",
      "Epoch 44/200\n",
      "577/577 [==============================] - 19s 32ms/step - loss: 893570.9375\n",
      "Epoch 45/200\n",
      "577/577 [==============================] - 19s 33ms/step - loss: 887244.3750\n",
      "Epoch 46/200\n",
      "567/577 [============================>.] - ETA: 0s - loss: 898751.9375"
     ]
    },
    {
     "ename": "KeyboardInterrupt",
     "evalue": "",
     "output_type": "error",
     "traceback": [
      "\u001b[1;31m---------------------------------------------------------------------------\u001b[0m",
      "\u001b[1;31mKeyboardInterrupt\u001b[0m                         Traceback (most recent call last)",
      "\u001b[1;32mc:\\Users\\Alessandro\\Code\\env\\tide_prediction\\data\\play1.ipynb Cell 12'\u001b[0m in \u001b[0;36m<cell line: 12>\u001b[1;34m()\u001b[0m\n\u001b[0;32m     <a href='vscode-notebook-cell:/c%3A/Users/Alessandro/Code/env/tide_prediction/data/play1.ipynb#ch0000013?line=9'>10</a>\u001b[0m model\u001b[39m.\u001b[39mcompile(optimizer\u001b[39m=\u001b[39m\u001b[39m'\u001b[39m\u001b[39madam\u001b[39m\u001b[39m'\u001b[39m, loss\u001b[39m=\u001b[39m\u001b[39m'\u001b[39m\u001b[39mmse\u001b[39m\u001b[39m'\u001b[39m)\n\u001b[0;32m     <a href='vscode-notebook-cell:/c%3A/Users/Alessandro/Code/env/tide_prediction/data/play1.ipynb#ch0000013?line=10'>11</a>\u001b[0m \u001b[39m# fit model\u001b[39;00m\n\u001b[1;32m---> <a href='vscode-notebook-cell:/c%3A/Users/Alessandro/Code/env/tide_prediction/data/play1.ipynb#ch0000013?line=11'>12</a>\u001b[0m model\u001b[39m.\u001b[39;49mfit(X, y, epochs\u001b[39m=\u001b[39;49m\u001b[39m200\u001b[39;49m, verbose\u001b[39m=\u001b[39;49m\u001b[39m1\u001b[39;49m)\n",
      "File \u001b[1;32m~\\AppData\\Local\\Programs\\Python\\Python39\\lib\\site-packages\\keras\\utils\\traceback_utils.py:64\u001b[0m, in \u001b[0;36mfilter_traceback.<locals>.error_handler\u001b[1;34m(*args, **kwargs)\u001b[0m\n\u001b[0;32m     <a href='file:///c%3A/Users/Alessandro/AppData/Local/Programs/Python/Python39/lib/site-packages/keras/utils/traceback_utils.py?line=61'>62</a>\u001b[0m filtered_tb \u001b[39m=\u001b[39m \u001b[39mNone\u001b[39;00m\n\u001b[0;32m     <a href='file:///c%3A/Users/Alessandro/AppData/Local/Programs/Python/Python39/lib/site-packages/keras/utils/traceback_utils.py?line=62'>63</a>\u001b[0m \u001b[39mtry\u001b[39;00m:\n\u001b[1;32m---> <a href='file:///c%3A/Users/Alessandro/AppData/Local/Programs/Python/Python39/lib/site-packages/keras/utils/traceback_utils.py?line=63'>64</a>\u001b[0m   \u001b[39mreturn\u001b[39;00m fn(\u001b[39m*\u001b[39margs, \u001b[39m*\u001b[39m\u001b[39m*\u001b[39mkwargs)\n\u001b[0;32m     <a href='file:///c%3A/Users/Alessandro/AppData/Local/Programs/Python/Python39/lib/site-packages/keras/utils/traceback_utils.py?line=64'>65</a>\u001b[0m \u001b[39mexcept\u001b[39;00m \u001b[39mException\u001b[39;00m \u001b[39mas\u001b[39;00m e:  \u001b[39m# pylint: disable=broad-except\u001b[39;00m\n\u001b[0;32m     <a href='file:///c%3A/Users/Alessandro/AppData/Local/Programs/Python/Python39/lib/site-packages/keras/utils/traceback_utils.py?line=65'>66</a>\u001b[0m   filtered_tb \u001b[39m=\u001b[39m _process_traceback_frames(e\u001b[39m.\u001b[39m__traceback__)\n",
      "File \u001b[1;32m~\\AppData\\Local\\Programs\\Python\\Python39\\lib\\site-packages\\keras\\engine\\training.py:1384\u001b[0m, in \u001b[0;36mModel.fit\u001b[1;34m(self, x, y, batch_size, epochs, verbose, callbacks, validation_split, validation_data, shuffle, class_weight, sample_weight, initial_epoch, steps_per_epoch, validation_steps, validation_batch_size, validation_freq, max_queue_size, workers, use_multiprocessing)\u001b[0m\n\u001b[0;32m   <a href='file:///c%3A/Users/Alessandro/AppData/Local/Programs/Python/Python39/lib/site-packages/keras/engine/training.py?line=1376'>1377</a>\u001b[0m \u001b[39mwith\u001b[39;00m tf\u001b[39m.\u001b[39mprofiler\u001b[39m.\u001b[39mexperimental\u001b[39m.\u001b[39mTrace(\n\u001b[0;32m   <a href='file:///c%3A/Users/Alessandro/AppData/Local/Programs/Python/Python39/lib/site-packages/keras/engine/training.py?line=1377'>1378</a>\u001b[0m     \u001b[39m'\u001b[39m\u001b[39mtrain\u001b[39m\u001b[39m'\u001b[39m,\n\u001b[0;32m   <a href='file:///c%3A/Users/Alessandro/AppData/Local/Programs/Python/Python39/lib/site-packages/keras/engine/training.py?line=1378'>1379</a>\u001b[0m     epoch_num\u001b[39m=\u001b[39mepoch,\n\u001b[0;32m   <a href='file:///c%3A/Users/Alessandro/AppData/Local/Programs/Python/Python39/lib/site-packages/keras/engine/training.py?line=1379'>1380</a>\u001b[0m     step_num\u001b[39m=\u001b[39mstep,\n\u001b[0;32m   <a href='file:///c%3A/Users/Alessandro/AppData/Local/Programs/Python/Python39/lib/site-packages/keras/engine/training.py?line=1380'>1381</a>\u001b[0m     batch_size\u001b[39m=\u001b[39mbatch_size,\n\u001b[0;32m   <a href='file:///c%3A/Users/Alessandro/AppData/Local/Programs/Python/Python39/lib/site-packages/keras/engine/training.py?line=1381'>1382</a>\u001b[0m     _r\u001b[39m=\u001b[39m\u001b[39m1\u001b[39m):\n\u001b[0;32m   <a href='file:///c%3A/Users/Alessandro/AppData/Local/Programs/Python/Python39/lib/site-packages/keras/engine/training.py?line=1382'>1383</a>\u001b[0m   callbacks\u001b[39m.\u001b[39mon_train_batch_begin(step)\n\u001b[1;32m-> <a href='file:///c%3A/Users/Alessandro/AppData/Local/Programs/Python/Python39/lib/site-packages/keras/engine/training.py?line=1383'>1384</a>\u001b[0m   tmp_logs \u001b[39m=\u001b[39m \u001b[39mself\u001b[39;49m\u001b[39m.\u001b[39;49mtrain_function(iterator)\n\u001b[0;32m   <a href='file:///c%3A/Users/Alessandro/AppData/Local/Programs/Python/Python39/lib/site-packages/keras/engine/training.py?line=1384'>1385</a>\u001b[0m   \u001b[39mif\u001b[39;00m data_handler\u001b[39m.\u001b[39mshould_sync:\n\u001b[0;32m   <a href='file:///c%3A/Users/Alessandro/AppData/Local/Programs/Python/Python39/lib/site-packages/keras/engine/training.py?line=1385'>1386</a>\u001b[0m     context\u001b[39m.\u001b[39masync_wait()\n",
      "File \u001b[1;32m~\\AppData\\Local\\Programs\\Python\\Python39\\lib\\site-packages\\tensorflow\\python\\util\\traceback_utils.py:150\u001b[0m, in \u001b[0;36mfilter_traceback.<locals>.error_handler\u001b[1;34m(*args, **kwargs)\u001b[0m\n\u001b[0;32m    <a href='file:///c%3A/Users/Alessandro/AppData/Local/Programs/Python/Python39/lib/site-packages/tensorflow/python/util/traceback_utils.py?line=147'>148</a>\u001b[0m filtered_tb \u001b[39m=\u001b[39m \u001b[39mNone\u001b[39;00m\n\u001b[0;32m    <a href='file:///c%3A/Users/Alessandro/AppData/Local/Programs/Python/Python39/lib/site-packages/tensorflow/python/util/traceback_utils.py?line=148'>149</a>\u001b[0m \u001b[39mtry\u001b[39;00m:\n\u001b[1;32m--> <a href='file:///c%3A/Users/Alessandro/AppData/Local/Programs/Python/Python39/lib/site-packages/tensorflow/python/util/traceback_utils.py?line=149'>150</a>\u001b[0m   \u001b[39mreturn\u001b[39;00m fn(\u001b[39m*\u001b[39margs, \u001b[39m*\u001b[39m\u001b[39m*\u001b[39mkwargs)\n\u001b[0;32m    <a href='file:///c%3A/Users/Alessandro/AppData/Local/Programs/Python/Python39/lib/site-packages/tensorflow/python/util/traceback_utils.py?line=150'>151</a>\u001b[0m \u001b[39mexcept\u001b[39;00m \u001b[39mException\u001b[39;00m \u001b[39mas\u001b[39;00m e:\n\u001b[0;32m    <a href='file:///c%3A/Users/Alessandro/AppData/Local/Programs/Python/Python39/lib/site-packages/tensorflow/python/util/traceback_utils.py?line=151'>152</a>\u001b[0m   filtered_tb \u001b[39m=\u001b[39m _process_traceback_frames(e\u001b[39m.\u001b[39m__traceback__)\n",
      "File \u001b[1;32m~\\AppData\\Local\\Programs\\Python\\Python39\\lib\\site-packages\\tensorflow\\python\\eager\\def_function.py:915\u001b[0m, in \u001b[0;36mFunction.__call__\u001b[1;34m(self, *args, **kwds)\u001b[0m\n\u001b[0;32m    <a href='file:///c%3A/Users/Alessandro/AppData/Local/Programs/Python/Python39/lib/site-packages/tensorflow/python/eager/def_function.py?line=911'>912</a>\u001b[0m compiler \u001b[39m=\u001b[39m \u001b[39m\"\u001b[39m\u001b[39mxla\u001b[39m\u001b[39m\"\u001b[39m \u001b[39mif\u001b[39;00m \u001b[39mself\u001b[39m\u001b[39m.\u001b[39m_jit_compile \u001b[39melse\u001b[39;00m \u001b[39m\"\u001b[39m\u001b[39mnonXla\u001b[39m\u001b[39m\"\u001b[39m\n\u001b[0;32m    <a href='file:///c%3A/Users/Alessandro/AppData/Local/Programs/Python/Python39/lib/site-packages/tensorflow/python/eager/def_function.py?line=913'>914</a>\u001b[0m \u001b[39mwith\u001b[39;00m OptionalXlaContext(\u001b[39mself\u001b[39m\u001b[39m.\u001b[39m_jit_compile):\n\u001b[1;32m--> <a href='file:///c%3A/Users/Alessandro/AppData/Local/Programs/Python/Python39/lib/site-packages/tensorflow/python/eager/def_function.py?line=914'>915</a>\u001b[0m   result \u001b[39m=\u001b[39m \u001b[39mself\u001b[39m\u001b[39m.\u001b[39m_call(\u001b[39m*\u001b[39margs, \u001b[39m*\u001b[39m\u001b[39m*\u001b[39mkwds)\n\u001b[0;32m    <a href='file:///c%3A/Users/Alessandro/AppData/Local/Programs/Python/Python39/lib/site-packages/tensorflow/python/eager/def_function.py?line=916'>917</a>\u001b[0m new_tracing_count \u001b[39m=\u001b[39m \u001b[39mself\u001b[39m\u001b[39m.\u001b[39mexperimental_get_tracing_count()\n\u001b[0;32m    <a href='file:///c%3A/Users/Alessandro/AppData/Local/Programs/Python/Python39/lib/site-packages/tensorflow/python/eager/def_function.py?line=917'>918</a>\u001b[0m without_tracing \u001b[39m=\u001b[39m (tracing_count \u001b[39m==\u001b[39m new_tracing_count)\n",
      "File \u001b[1;32m~\\AppData\\Local\\Programs\\Python\\Python39\\lib\\site-packages\\tensorflow\\python\\eager\\def_function.py:947\u001b[0m, in \u001b[0;36mFunction._call\u001b[1;34m(self, *args, **kwds)\u001b[0m\n\u001b[0;32m    <a href='file:///c%3A/Users/Alessandro/AppData/Local/Programs/Python/Python39/lib/site-packages/tensorflow/python/eager/def_function.py?line=943'>944</a>\u001b[0m   \u001b[39mself\u001b[39m\u001b[39m.\u001b[39m_lock\u001b[39m.\u001b[39mrelease()\n\u001b[0;32m    <a href='file:///c%3A/Users/Alessandro/AppData/Local/Programs/Python/Python39/lib/site-packages/tensorflow/python/eager/def_function.py?line=944'>945</a>\u001b[0m   \u001b[39m# In this case we have created variables on the first call, so we run the\u001b[39;00m\n\u001b[0;32m    <a href='file:///c%3A/Users/Alessandro/AppData/Local/Programs/Python/Python39/lib/site-packages/tensorflow/python/eager/def_function.py?line=945'>946</a>\u001b[0m   \u001b[39m# defunned version which is guaranteed to never create variables.\u001b[39;00m\n\u001b[1;32m--> <a href='file:///c%3A/Users/Alessandro/AppData/Local/Programs/Python/Python39/lib/site-packages/tensorflow/python/eager/def_function.py?line=946'>947</a>\u001b[0m   \u001b[39mreturn\u001b[39;00m \u001b[39mself\u001b[39m\u001b[39m.\u001b[39m_stateless_fn(\u001b[39m*\u001b[39margs, \u001b[39m*\u001b[39m\u001b[39m*\u001b[39mkwds)  \u001b[39m# pylint: disable=not-callable\u001b[39;00m\n\u001b[0;32m    <a href='file:///c%3A/Users/Alessandro/AppData/Local/Programs/Python/Python39/lib/site-packages/tensorflow/python/eager/def_function.py?line=947'>948</a>\u001b[0m \u001b[39melif\u001b[39;00m \u001b[39mself\u001b[39m\u001b[39m.\u001b[39m_stateful_fn \u001b[39mis\u001b[39;00m \u001b[39mnot\u001b[39;00m \u001b[39mNone\u001b[39;00m:\n\u001b[0;32m    <a href='file:///c%3A/Users/Alessandro/AppData/Local/Programs/Python/Python39/lib/site-packages/tensorflow/python/eager/def_function.py?line=948'>949</a>\u001b[0m   \u001b[39m# Release the lock early so that multiple threads can perform the call\u001b[39;00m\n\u001b[0;32m    <a href='file:///c%3A/Users/Alessandro/AppData/Local/Programs/Python/Python39/lib/site-packages/tensorflow/python/eager/def_function.py?line=949'>950</a>\u001b[0m   \u001b[39m# in parallel.\u001b[39;00m\n\u001b[0;32m    <a href='file:///c%3A/Users/Alessandro/AppData/Local/Programs/Python/Python39/lib/site-packages/tensorflow/python/eager/def_function.py?line=950'>951</a>\u001b[0m   \u001b[39mself\u001b[39m\u001b[39m.\u001b[39m_lock\u001b[39m.\u001b[39mrelease()\n",
      "File \u001b[1;32m~\\AppData\\Local\\Programs\\Python\\Python39\\lib\\site-packages\\tensorflow\\python\\eager\\function.py:2956\u001b[0m, in \u001b[0;36mFunction.__call__\u001b[1;34m(self, *args, **kwargs)\u001b[0m\n\u001b[0;32m   <a href='file:///c%3A/Users/Alessandro/AppData/Local/Programs/Python/Python39/lib/site-packages/tensorflow/python/eager/function.py?line=2952'>2953</a>\u001b[0m \u001b[39mwith\u001b[39;00m \u001b[39mself\u001b[39m\u001b[39m.\u001b[39m_lock:\n\u001b[0;32m   <a href='file:///c%3A/Users/Alessandro/AppData/Local/Programs/Python/Python39/lib/site-packages/tensorflow/python/eager/function.py?line=2953'>2954</a>\u001b[0m   (graph_function,\n\u001b[0;32m   <a href='file:///c%3A/Users/Alessandro/AppData/Local/Programs/Python/Python39/lib/site-packages/tensorflow/python/eager/function.py?line=2954'>2955</a>\u001b[0m    filtered_flat_args) \u001b[39m=\u001b[39m \u001b[39mself\u001b[39m\u001b[39m.\u001b[39m_maybe_define_function(args, kwargs)\n\u001b[1;32m-> <a href='file:///c%3A/Users/Alessandro/AppData/Local/Programs/Python/Python39/lib/site-packages/tensorflow/python/eager/function.py?line=2955'>2956</a>\u001b[0m \u001b[39mreturn\u001b[39;00m graph_function\u001b[39m.\u001b[39;49m_call_flat(\n\u001b[0;32m   <a href='file:///c%3A/Users/Alessandro/AppData/Local/Programs/Python/Python39/lib/site-packages/tensorflow/python/eager/function.py?line=2956'>2957</a>\u001b[0m     filtered_flat_args, captured_inputs\u001b[39m=\u001b[39;49mgraph_function\u001b[39m.\u001b[39;49mcaptured_inputs)\n",
      "File \u001b[1;32m~\\AppData\\Local\\Programs\\Python\\Python39\\lib\\site-packages\\tensorflow\\python\\eager\\function.py:1853\u001b[0m, in \u001b[0;36mConcreteFunction._call_flat\u001b[1;34m(self, args, captured_inputs, cancellation_manager)\u001b[0m\n\u001b[0;32m   <a href='file:///c%3A/Users/Alessandro/AppData/Local/Programs/Python/Python39/lib/site-packages/tensorflow/python/eager/function.py?line=1848'>1849</a>\u001b[0m possible_gradient_type \u001b[39m=\u001b[39m gradients_util\u001b[39m.\u001b[39mPossibleTapeGradientTypes(args)\n\u001b[0;32m   <a href='file:///c%3A/Users/Alessandro/AppData/Local/Programs/Python/Python39/lib/site-packages/tensorflow/python/eager/function.py?line=1849'>1850</a>\u001b[0m \u001b[39mif\u001b[39;00m (possible_gradient_type \u001b[39m==\u001b[39m gradients_util\u001b[39m.\u001b[39mPOSSIBLE_GRADIENT_TYPES_NONE\n\u001b[0;32m   <a href='file:///c%3A/Users/Alessandro/AppData/Local/Programs/Python/Python39/lib/site-packages/tensorflow/python/eager/function.py?line=1850'>1851</a>\u001b[0m     \u001b[39mand\u001b[39;00m executing_eagerly):\n\u001b[0;32m   <a href='file:///c%3A/Users/Alessandro/AppData/Local/Programs/Python/Python39/lib/site-packages/tensorflow/python/eager/function.py?line=1851'>1852</a>\u001b[0m   \u001b[39m# No tape is watching; skip to running the function.\u001b[39;00m\n\u001b[1;32m-> <a href='file:///c%3A/Users/Alessandro/AppData/Local/Programs/Python/Python39/lib/site-packages/tensorflow/python/eager/function.py?line=1852'>1853</a>\u001b[0m   \u001b[39mreturn\u001b[39;00m \u001b[39mself\u001b[39m\u001b[39m.\u001b[39m_build_call_outputs(\u001b[39mself\u001b[39;49m\u001b[39m.\u001b[39;49m_inference_function\u001b[39m.\u001b[39;49mcall(\n\u001b[0;32m   <a href='file:///c%3A/Users/Alessandro/AppData/Local/Programs/Python/Python39/lib/site-packages/tensorflow/python/eager/function.py?line=1853'>1854</a>\u001b[0m       ctx, args, cancellation_manager\u001b[39m=\u001b[39;49mcancellation_manager))\n\u001b[0;32m   <a href='file:///c%3A/Users/Alessandro/AppData/Local/Programs/Python/Python39/lib/site-packages/tensorflow/python/eager/function.py?line=1854'>1855</a>\u001b[0m forward_backward \u001b[39m=\u001b[39m \u001b[39mself\u001b[39m\u001b[39m.\u001b[39m_select_forward_and_backward_functions(\n\u001b[0;32m   <a href='file:///c%3A/Users/Alessandro/AppData/Local/Programs/Python/Python39/lib/site-packages/tensorflow/python/eager/function.py?line=1855'>1856</a>\u001b[0m     args,\n\u001b[0;32m   <a href='file:///c%3A/Users/Alessandro/AppData/Local/Programs/Python/Python39/lib/site-packages/tensorflow/python/eager/function.py?line=1856'>1857</a>\u001b[0m     possible_gradient_type,\n\u001b[0;32m   <a href='file:///c%3A/Users/Alessandro/AppData/Local/Programs/Python/Python39/lib/site-packages/tensorflow/python/eager/function.py?line=1857'>1858</a>\u001b[0m     executing_eagerly)\n\u001b[0;32m   <a href='file:///c%3A/Users/Alessandro/AppData/Local/Programs/Python/Python39/lib/site-packages/tensorflow/python/eager/function.py?line=1858'>1859</a>\u001b[0m forward_function, args_with_tangents \u001b[39m=\u001b[39m forward_backward\u001b[39m.\u001b[39mforward()\n",
      "File \u001b[1;32m~\\AppData\\Local\\Programs\\Python\\Python39\\lib\\site-packages\\tensorflow\\python\\eager\\function.py:499\u001b[0m, in \u001b[0;36m_EagerDefinedFunction.call\u001b[1;34m(self, ctx, args, cancellation_manager)\u001b[0m\n\u001b[0;32m    <a href='file:///c%3A/Users/Alessandro/AppData/Local/Programs/Python/Python39/lib/site-packages/tensorflow/python/eager/function.py?line=496'>497</a>\u001b[0m \u001b[39mwith\u001b[39;00m _InterpolateFunctionError(\u001b[39mself\u001b[39m):\n\u001b[0;32m    <a href='file:///c%3A/Users/Alessandro/AppData/Local/Programs/Python/Python39/lib/site-packages/tensorflow/python/eager/function.py?line=497'>498</a>\u001b[0m   \u001b[39mif\u001b[39;00m cancellation_manager \u001b[39mis\u001b[39;00m \u001b[39mNone\u001b[39;00m:\n\u001b[1;32m--> <a href='file:///c%3A/Users/Alessandro/AppData/Local/Programs/Python/Python39/lib/site-packages/tensorflow/python/eager/function.py?line=498'>499</a>\u001b[0m     outputs \u001b[39m=\u001b[39m execute\u001b[39m.\u001b[39;49mexecute(\n\u001b[0;32m    <a href='file:///c%3A/Users/Alessandro/AppData/Local/Programs/Python/Python39/lib/site-packages/tensorflow/python/eager/function.py?line=499'>500</a>\u001b[0m         \u001b[39mstr\u001b[39;49m(\u001b[39mself\u001b[39;49m\u001b[39m.\u001b[39;49msignature\u001b[39m.\u001b[39;49mname),\n\u001b[0;32m    <a href='file:///c%3A/Users/Alessandro/AppData/Local/Programs/Python/Python39/lib/site-packages/tensorflow/python/eager/function.py?line=500'>501</a>\u001b[0m         num_outputs\u001b[39m=\u001b[39;49m\u001b[39mself\u001b[39;49m\u001b[39m.\u001b[39;49m_num_outputs,\n\u001b[0;32m    <a href='file:///c%3A/Users/Alessandro/AppData/Local/Programs/Python/Python39/lib/site-packages/tensorflow/python/eager/function.py?line=501'>502</a>\u001b[0m         inputs\u001b[39m=\u001b[39;49margs,\n\u001b[0;32m    <a href='file:///c%3A/Users/Alessandro/AppData/Local/Programs/Python/Python39/lib/site-packages/tensorflow/python/eager/function.py?line=502'>503</a>\u001b[0m         attrs\u001b[39m=\u001b[39;49mattrs,\n\u001b[0;32m    <a href='file:///c%3A/Users/Alessandro/AppData/Local/Programs/Python/Python39/lib/site-packages/tensorflow/python/eager/function.py?line=503'>504</a>\u001b[0m         ctx\u001b[39m=\u001b[39;49mctx)\n\u001b[0;32m    <a href='file:///c%3A/Users/Alessandro/AppData/Local/Programs/Python/Python39/lib/site-packages/tensorflow/python/eager/function.py?line=504'>505</a>\u001b[0m   \u001b[39melse\u001b[39;00m:\n\u001b[0;32m    <a href='file:///c%3A/Users/Alessandro/AppData/Local/Programs/Python/Python39/lib/site-packages/tensorflow/python/eager/function.py?line=505'>506</a>\u001b[0m     outputs \u001b[39m=\u001b[39m execute\u001b[39m.\u001b[39mexecute_with_cancellation(\n\u001b[0;32m    <a href='file:///c%3A/Users/Alessandro/AppData/Local/Programs/Python/Python39/lib/site-packages/tensorflow/python/eager/function.py?line=506'>507</a>\u001b[0m         \u001b[39mstr\u001b[39m(\u001b[39mself\u001b[39m\u001b[39m.\u001b[39msignature\u001b[39m.\u001b[39mname),\n\u001b[0;32m    <a href='file:///c%3A/Users/Alessandro/AppData/Local/Programs/Python/Python39/lib/site-packages/tensorflow/python/eager/function.py?line=507'>508</a>\u001b[0m         num_outputs\u001b[39m=\u001b[39m\u001b[39mself\u001b[39m\u001b[39m.\u001b[39m_num_outputs,\n\u001b[1;32m   (...)\u001b[0m\n\u001b[0;32m    <a href='file:///c%3A/Users/Alessandro/AppData/Local/Programs/Python/Python39/lib/site-packages/tensorflow/python/eager/function.py?line=510'>511</a>\u001b[0m         ctx\u001b[39m=\u001b[39mctx,\n\u001b[0;32m    <a href='file:///c%3A/Users/Alessandro/AppData/Local/Programs/Python/Python39/lib/site-packages/tensorflow/python/eager/function.py?line=511'>512</a>\u001b[0m         cancellation_manager\u001b[39m=\u001b[39mcancellation_manager)\n",
      "File \u001b[1;32m~\\AppData\\Local\\Programs\\Python\\Python39\\lib\\site-packages\\tensorflow\\python\\eager\\execute.py:54\u001b[0m, in \u001b[0;36mquick_execute\u001b[1;34m(op_name, num_outputs, inputs, attrs, ctx, name)\u001b[0m\n\u001b[0;32m     <a href='file:///c%3A/Users/Alessandro/AppData/Local/Programs/Python/Python39/lib/site-packages/tensorflow/python/eager/execute.py?line=51'>52</a>\u001b[0m \u001b[39mtry\u001b[39;00m:\n\u001b[0;32m     <a href='file:///c%3A/Users/Alessandro/AppData/Local/Programs/Python/Python39/lib/site-packages/tensorflow/python/eager/execute.py?line=52'>53</a>\u001b[0m   ctx\u001b[39m.\u001b[39mensure_initialized()\n\u001b[1;32m---> <a href='file:///c%3A/Users/Alessandro/AppData/Local/Programs/Python/Python39/lib/site-packages/tensorflow/python/eager/execute.py?line=53'>54</a>\u001b[0m   tensors \u001b[39m=\u001b[39m pywrap_tfe\u001b[39m.\u001b[39;49mTFE_Py_Execute(ctx\u001b[39m.\u001b[39;49m_handle, device_name, op_name,\n\u001b[0;32m     <a href='file:///c%3A/Users/Alessandro/AppData/Local/Programs/Python/Python39/lib/site-packages/tensorflow/python/eager/execute.py?line=54'>55</a>\u001b[0m                                       inputs, attrs, num_outputs)\n\u001b[0;32m     <a href='file:///c%3A/Users/Alessandro/AppData/Local/Programs/Python/Python39/lib/site-packages/tensorflow/python/eager/execute.py?line=55'>56</a>\u001b[0m \u001b[39mexcept\u001b[39;00m core\u001b[39m.\u001b[39m_NotOkStatusException \u001b[39mas\u001b[39;00m e:\n\u001b[0;32m     <a href='file:///c%3A/Users/Alessandro/AppData/Local/Programs/Python/Python39/lib/site-packages/tensorflow/python/eager/execute.py?line=56'>57</a>\u001b[0m   \u001b[39mif\u001b[39;00m name \u001b[39mis\u001b[39;00m \u001b[39mnot\u001b[39;00m \u001b[39mNone\u001b[39;00m:\n",
      "\u001b[1;31mKeyboardInterrupt\u001b[0m: "
     ]
    }
   ],
   "source": [
    "# the dataset knows the number of features, e.g. 2\n",
    "n_features = X.shape[2]\n",
    "# define model\n",
    "model = Sequential()\n",
    "model.add(LSTM(200, activation='relu', input_shape=(n_steps_in, n_features)))\n",
    "model.add(RepeatVector(n_steps_out))\n",
    "model.add(LSTM(200, activation='relu', return_sequences=True))\n",
    "#model.add(LSTM(100, activation='relu', return_sequences=True))\n",
    "model.add(TimeDistributed(Dense(n_features)))\n",
    "model.compile(optimizer='adam', loss='mse')\n",
    "# fit model\n",
    "model.fit(X, y, epochs=200, verbose=1)"
   ]
  },
  {
   "cell_type": "code",
   "execution_count": 106,
   "metadata": {},
   "outputs": [
    {
     "name": "stdout",
     "output_type": "stream",
     "text": [
      "1/1 [==============================] - 15s 15s/step\n",
      "[[[103057.695 102978.47  102969.71  ... 101689.51  101660.5   101585.39 ]\n",
      "  [103045.73  102975.75  102968.914 ... 101688.086 101676.586 101634.1  ]\n",
      "  [103051.266 102980.375 102971.81  ... 101695.28  101679.88  101634.36 ]\n",
      "  [103051.05  102980.45  102971.95  ... 101695.19  101680.29  101634.93 ]\n",
      "  [103051.08  102980.46  102971.945 ... 101695.2   101680.25  101634.88 ]]\n",
      "\n",
      " [[103059.41  102980.18  102971.42  ... 101691.195 101662.19  101587.08 ]\n",
      "  [103047.44  102977.46  102970.625 ... 101689.77  101678.266 101635.79 ]\n",
      "  [103052.984 102982.09  102973.52  ... 101696.98  101681.58  101636.055]\n",
      "  [103052.76  102982.164 102973.66  ... 101696.875 101681.97  101636.62 ]\n",
      "  [103052.8   102982.17  102973.66  ... 101696.89  101681.94  101636.57 ]]\n",
      "\n",
      " [[103040.125 102960.92  102952.164 ... 101672.18  101643.164 101568.07 ]\n",
      "  [103028.16  102958.195 102951.36  ... 101670.76  101659.25  101616.77 ]\n",
      "  [103033.71  102962.83  102954.266 ... 101677.945 101662.555 101617.04 ]\n",
      "  [103033.48  102962.9   102954.4   ... 101677.85  101662.96  101617.6  ]\n",
      "  [103033.516 102962.91  102954.4   ... 101677.87  101662.92  101617.555]]]\n"
     ]
    }
   ],
   "source": [
    "# demonstrate prediction\n",
    "x_input = X[0:3]\n",
    "#x_input = x_input.reshape((1, n_steps_in, n_features))\n",
    "yhat = model.predict(x_input, verbose=1)\n",
    "print(yhat)"
   ]
  },
  {
   "cell_type": "code",
   "execution_count": 107,
   "metadata": {},
   "outputs": [
    {
     "data": {
      "image/png": "[encoded data removed]",
      "text/plain": [
       "<Figure size 432x288 with 1 Axes>"
      ]
     },
     "metadata": {
      "needs_background": "light"
     },
     "output_type": "display_data"
    },
    {
     "data": {
      "image/png": "[encoded data removed]",
      "text/plain": [
       "<Figure size 432x288 with 1 Axes>"
      ]
     },
     "metadata": {
      "needs_background": "light"
     },
     "output_type": "display_data"
    },
    {
     "data": {
      "image/png": "[encoded data removed]",
      "text/plain": [
       "<Figure size 432x288 with 1 Axes>"
      ]
     },
     "metadata": {
      "needs_background": "light"
     },
     "output_type": "display_data"
    }
   ],
   "source": [
    "for j in range(3):\n",
    "    plt.imshow(x_input[0][j].reshape(41,41))\n",
    "    plt.show()"
   ]
  },
  {
   "cell_type": "code",
   "execution_count": 119,
   "metadata": {},
   "outputs": [
    {
     "data": {
      "text/plain": [
       "<matplotlib.image.AxesImage at 0x1bc0b2877f0>"
      ]
     },
     "execution_count": 119,
     "metadata": {},
     "output_type": "execute_result"
    },
    {
     "data": {
      "image/png": "[encoded data removed]",
      "text/plain": [
       "<Figure size 432x288 with 1 Axes>"
      ]
     },
     "metadata": {
      "needs_background": "light"
     },
     "output_type": "display_data"
    }
   ],
   "source": [
    "plt.imshow(yhat[0][3].reshape(41,41))"
   ]
  },
  {
   "cell_type": "code",
   "execution_count": 120,
   "metadata": {},
   "outputs": [
    {
     "data": {
      "text/plain": [
       "<matplotlib.image.AxesImage at 0x1bc0c3777f0>"
      ]
     },
     "execution_count": 120,
     "metadata": {},
     "output_type": "execute_result"
    },
    {
     "data": {
      "image/png": "[encoded data removed]",
      "text/plain": [
       "<Figure size 432x288 with 1 Axes>"
      ]
     },
     "metadata": {
      "needs_background": "light"
     },
     "output_type": "display_data"
    }
   ],
   "source": [
    "plt.imshow(y[0][3].reshape(41,41))"
   ]
  },
  {
   "cell_type": "code",
   "execution_count": null,
   "metadata": {},
   "outputs": [],
   "source": []
  },
  {
   "cell_type": "code",
   "execution_count": null,
   "metadata": {},
   "outputs": [],
   "source": []
  },
  {
   "cell_type": "code",
   "execution_count": null,
   "metadata": {},
   "outputs": [],
   "source": []
  },
  {
   "cell_type": "code",
   "execution_count": null,
   "metadata": {},
   "outputs": [],
   "source": []
  },
  {
   "cell_type": "code",
   "execution_count": null,
   "metadata": {},
   "outputs": [],
   "source": []
  }
 ],
 "metadata": {
  "interpreter": {
   "hash": "ff834fc3bbea3611a9fb1661940441cbf447a728521657f96a006c5524b5bbf1"
  },
  "kernelspec": {
   "display_name": "Python 3.9.10 64-bit",
   "language": "python",
   "name": "python3"
  },
  "language_info": {
   "codemirror_mode": {
    "name": "ipython",
    "version": 3
   },
   "file_extension": ".py",
   "mimetype": "text/x-python",
   "name": "python",
   "nbconvert_exporter": "python",
   "pygments_lexer": "ipython3",
   "version": "3.9.10"
  },
  "orig_nbformat": 4
 },
 "nbformat": 4,
 "nbformat_minor": 2
}
