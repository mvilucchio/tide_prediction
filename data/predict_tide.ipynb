{
 "cells": [
  {
   "cell_type": "markdown",
   "metadata": {},
   "source": [
    "## Imports, data load, metric function definition"
   ]
  },
  {
   "cell_type": "code",
   "execution_count": 104,
   "metadata": {},
   "outputs": [],
   "source": [
    "import numpy as np\n",
    "import pandas as pd\n",
    "import matplotlib.pyplot as plt\n",
    "import matplotlib.image as mpimg\n",
    "from sklearn.neighbors import BallTree\n",
    "import time"
   ]
  },
  {
   "cell_type": "code",
   "execution_count": 119,
   "metadata": {},
   "outputs": [],
   "source": [
    "#wind and atmospheric pressure are responsible for the surge\n",
    "#-1 hPa--> +1cm\n"
   ]
  },
  {
   "cell_type": "code",
   "execution_count": 120,
   "metadata": {},
   "outputs": [],
   "source": [
    "X_train = np.load('X_train_surge.npz')\n",
    "Y_train = pd.read_csv('Y_train_surge.csv')\n",
    "X_test = np.load('X_test_surge.npz')"
   ]
  },
  {
   "cell_type": "code",
   "execution_count": 121,
   "metadata": {},
   "outputs": [],
   "source": [
    "slp = X_train['slp']\n",
    "t_surge1_output = X_train['t_surge1_output']\n",
    "t_surge2_output = X_train['t_surge2_output']\n",
    "t_surge1_input = X_train['t_surge1_input']\n",
    "t_surge2_input = X_train['t_surge2_input']\n",
    "surge1_input = X_train['surge1_input']\n",
    "\n"
   ]
  },
  {
   "cell_type": "code",
   "execution_count": 136,
   "metadata": {},
   "outputs": [
    {
     "data": {
      "text/plain": [
       "array([1.2876192e+09, 1.2876660e+09, 1.2877056e+09, 1.2877524e+09,\n",
       "       1.2877956e+09, 1.2878424e+09, 1.2878856e+09, 1.2879324e+09,\n",
       "       1.2879720e+09, 1.2880188e+09], dtype=float32)"
      ]
     },
     "execution_count": 136,
     "metadata": {},
     "output_type": "execute_result"
    }
   ],
   "source": [
    "t_surge1_input[-3]"
   ]
  },
  {
   "cell_type": "code",
   "execution_count": 139,
   "metadata": {
    "scrolled": true
   },
   "outputs": [
    {
     "data": {
      "text/plain": [
       "array([1.2880620e+09, 1.2881088e+09, 1.2881521e+09, 1.2881952e+09,\n",
       "       1.2882420e+09, 1.2882852e+09, 1.2883284e+09, 1.2883752e+09,\n",
       "       1.2884184e+09, 1.2884616e+09], dtype=float32)"
      ]
     },
     "execution_count": 139,
     "metadata": {},
     "output_type": "execute_result"
    }
   ],
   "source": [
    "t_surge1_output[-3]"
   ]
  },
  {
   "cell_type": "code",
   "execution_count": 118,
   "metadata": {},
   "outputs": [
    {
     "data": {
      "text/plain": [
       "array([-0.22752637, -0.4018146 , -0.87440383, -0.63978505, -1.0755056 ,\n",
       "       -1.712328  ,  0.58693594,  1.0695802 ,  0.7679275 , -0.1001619 ],\n",
       "      dtype=float32)"
      ]
     },
     "execution_count": 118,
     "metadata": {},
     "output_type": "execute_result"
    }
   ],
   "source": [
    "surge1_input[2]"
   ]
  },
  {
   "cell_type": "code",
   "execution_count": 41,
   "metadata": {
    "scrolled": true
   },
   "outputs": [
    {
     "data": {
      "text/plain": [
       "array([-0.54593754,  0.13110517,  0.31880018,  0.19478741, -0.22752637,\n",
       "       -0.4018146 , -0.87440383, -0.63978505, -1.0755056 , -1.712328  ],\n",
       "      dtype=float32)"
      ]
     },
     "execution_count": 41,
     "metadata": {},
     "output_type": "execute_result"
    }
   ],
   "source": [
    "X_train['surge1_input'][0]"
   ]
  },
  {
   "cell_type": "code",
   "execution_count": 109,
   "metadata": {},
   "outputs": [
    {
     "data": {
      "text/html": [
       "<div>\n",
       "<style scoped>\n",
       "    .dataframe tbody tr th:only-of-type {\n",
       "        vertical-align: middle;\n",
       "    }\n",
       "\n",
       "    .dataframe tbody tr th {\n",
       "        vertical-align: top;\n",
       "    }\n",
       "\n",
       "    .dataframe thead th {\n",
       "        text-align: right;\n",
       "    }\n",
       "</style>\n",
       "<table border=\"1\" class=\"dataframe\">\n",
       "  <thead>\n",
       "    <tr style=\"text-align: right;\">\n",
       "      <th></th>\n",
       "      <th>id_sequence</th>\n",
       "      <th>surge1_t0</th>\n",
       "      <th>surge1_t1</th>\n",
       "      <th>surge1_t2</th>\n",
       "      <th>surge1_t3</th>\n",
       "      <th>surge1_t4</th>\n",
       "      <th>surge1_t5</th>\n",
       "      <th>surge1_t6</th>\n",
       "      <th>surge1_t7</th>\n",
       "      <th>surge1_t8</th>\n",
       "      <th>...</th>\n",
       "      <th>surge2_t0</th>\n",
       "      <th>surge2_t1</th>\n",
       "      <th>surge2_t2</th>\n",
       "      <th>surge2_t3</th>\n",
       "      <th>surge2_t4</th>\n",
       "      <th>surge2_t5</th>\n",
       "      <th>surge2_t6</th>\n",
       "      <th>surge2_t7</th>\n",
       "      <th>surge2_t8</th>\n",
       "      <th>surge2_t9</th>\n",
       "    </tr>\n",
       "  </thead>\n",
       "  <tbody>\n",
       "    <tr>\n",
       "      <th>0</th>\n",
       "      <td>1</td>\n",
       "      <td>0.586936</td>\n",
       "      <td>1.069580</td>\n",
       "      <td>0.767928</td>\n",
       "      <td>-0.100162</td>\n",
       "      <td>0.070775</td>\n",
       "      <td>-0.244285</td>\n",
       "      <td>-0.354891</td>\n",
       "      <td>-0.928031</td>\n",
       "      <td>-0.773853</td>\n",
       "      <td>...</td>\n",
       "      <td>-0.053886</td>\n",
       "      <td>0.356847</td>\n",
       "      <td>0.348464</td>\n",
       "      <td>0.264641</td>\n",
       "      <td>0.901696</td>\n",
       "      <td>0.449052</td>\n",
       "      <td>0.113760</td>\n",
       "      <td>-0.422707</td>\n",
       "      <td>-0.456236</td>\n",
       "      <td>-0.825057</td>\n",
       "    </tr>\n",
       "    <tr>\n",
       "      <th>1</th>\n",
       "      <td>2</td>\n",
       "      <td>0.767928</td>\n",
       "      <td>-0.100162</td>\n",
       "      <td>0.070775</td>\n",
       "      <td>-0.244285</td>\n",
       "      <td>-0.354891</td>\n",
       "      <td>-0.928031</td>\n",
       "      <td>-0.773853</td>\n",
       "      <td>-0.375001</td>\n",
       "      <td>-0.361594</td>\n",
       "      <td>...</td>\n",
       "      <td>0.348464</td>\n",
       "      <td>0.264641</td>\n",
       "      <td>0.901696</td>\n",
       "      <td>0.449052</td>\n",
       "      <td>0.113760</td>\n",
       "      <td>-0.422707</td>\n",
       "      <td>-0.456236</td>\n",
       "      <td>-0.825057</td>\n",
       "      <td>-0.992703</td>\n",
       "      <td>-0.992703</td>\n",
       "    </tr>\n",
       "    <tr>\n",
       "      <th>2</th>\n",
       "      <td>3</td>\n",
       "      <td>0.070775</td>\n",
       "      <td>-0.244285</td>\n",
       "      <td>-0.354891</td>\n",
       "      <td>-0.928031</td>\n",
       "      <td>-0.773853</td>\n",
       "      <td>-0.375001</td>\n",
       "      <td>-0.361594</td>\n",
       "      <td>-0.210768</td>\n",
       "      <td>0.288635</td>\n",
       "      <td>...</td>\n",
       "      <td>0.901696</td>\n",
       "      <td>0.449052</td>\n",
       "      <td>0.113760</td>\n",
       "      <td>-0.422707</td>\n",
       "      <td>-0.456236</td>\n",
       "      <td>-0.825057</td>\n",
       "      <td>-0.992703</td>\n",
       "      <td>-0.992703</td>\n",
       "      <td>-0.322119</td>\n",
       "      <td>-0.883733</td>\n",
       "    </tr>\n",
       "    <tr>\n",
       "      <th>3</th>\n",
       "      <td>4</td>\n",
       "      <td>-0.354891</td>\n",
       "      <td>-0.928031</td>\n",
       "      <td>-0.773853</td>\n",
       "      <td>-0.375001</td>\n",
       "      <td>-0.361594</td>\n",
       "      <td>-0.210768</td>\n",
       "      <td>0.288635</td>\n",
       "      <td>-0.726929</td>\n",
       "      <td>-0.576103</td>\n",
       "      <td>...</td>\n",
       "      <td>0.113760</td>\n",
       "      <td>-0.422707</td>\n",
       "      <td>-0.456236</td>\n",
       "      <td>-0.825057</td>\n",
       "      <td>-0.992703</td>\n",
       "      <td>-0.992703</td>\n",
       "      <td>-0.322119</td>\n",
       "      <td>-0.883733</td>\n",
       "      <td>-0.473001</td>\n",
       "      <td>-0.422707</td>\n",
       "    </tr>\n",
       "    <tr>\n",
       "      <th>4</th>\n",
       "      <td>5</td>\n",
       "      <td>-0.773853</td>\n",
       "      <td>-0.375001</td>\n",
       "      <td>-0.361594</td>\n",
       "      <td>-0.210768</td>\n",
       "      <td>0.288635</td>\n",
       "      <td>-0.726929</td>\n",
       "      <td>-0.576103</td>\n",
       "      <td>1.160076</td>\n",
       "      <td>0.442813</td>\n",
       "      <td>...</td>\n",
       "      <td>-0.456236</td>\n",
       "      <td>-0.825057</td>\n",
       "      <td>-0.992703</td>\n",
       "      <td>-0.992703</td>\n",
       "      <td>-0.322119</td>\n",
       "      <td>-0.883733</td>\n",
       "      <td>-0.473001</td>\n",
       "      <td>-0.422707</td>\n",
       "      <td>-0.473001</td>\n",
       "      <td>-0.531677</td>\n",
       "    </tr>\n",
       "    <tr>\n",
       "      <th>...</th>\n",
       "      <td>...</td>\n",
       "      <td>...</td>\n",
       "      <td>...</td>\n",
       "      <td>...</td>\n",
       "      <td>...</td>\n",
       "      <td>...</td>\n",
       "      <td>...</td>\n",
       "      <td>...</td>\n",
       "      <td>...</td>\n",
       "      <td>...</td>\n",
       "      <td>...</td>\n",
       "      <td>...</td>\n",
       "      <td>...</td>\n",
       "      <td>...</td>\n",
       "      <td>...</td>\n",
       "      <td>...</td>\n",
       "      <td>...</td>\n",
       "      <td>...</td>\n",
       "      <td>...</td>\n",
       "      <td>...</td>\n",
       "      <td>...</td>\n",
       "    </tr>\n",
       "    <tr>\n",
       "      <th>5594</th>\n",
       "      <td>5595</td>\n",
       "      <td>1.451674</td>\n",
       "      <td>1.220407</td>\n",
       "      <td>0.556771</td>\n",
       "      <td>1.709754</td>\n",
       "      <td>0.483033</td>\n",
       "      <td>0.533309</td>\n",
       "      <td>1.448322</td>\n",
       "      <td>1.820360</td>\n",
       "      <td>1.662831</td>\n",
       "      <td>...</td>\n",
       "      <td>0.759197</td>\n",
       "      <td>0.884931</td>\n",
       "      <td>0.298171</td>\n",
       "      <td>-0.397560</td>\n",
       "      <td>-0.540059</td>\n",
       "      <td>-0.498148</td>\n",
       "      <td>-0.498148</td>\n",
       "      <td>-0.405942</td>\n",
       "      <td>0.164054</td>\n",
       "      <td>0.331700</td>\n",
       "    </tr>\n",
       "    <tr>\n",
       "      <th>5595</th>\n",
       "      <td>5596</td>\n",
       "      <td>0.556771</td>\n",
       "      <td>1.709754</td>\n",
       "      <td>0.483033</td>\n",
       "      <td>0.533309</td>\n",
       "      <td>1.448322</td>\n",
       "      <td>1.820360</td>\n",
       "      <td>1.662831</td>\n",
       "      <td>1.528763</td>\n",
       "      <td>1.284089</td>\n",
       "      <td>...</td>\n",
       "      <td>0.298171</td>\n",
       "      <td>-0.397560</td>\n",
       "      <td>-0.540059</td>\n",
       "      <td>-0.498148</td>\n",
       "      <td>-0.498148</td>\n",
       "      <td>-0.405942</td>\n",
       "      <td>0.164054</td>\n",
       "      <td>0.331700</td>\n",
       "      <td>1.052577</td>\n",
       "      <td>1.220223</td>\n",
       "    </tr>\n",
       "    <tr>\n",
       "      <th>5596</th>\n",
       "      <td>5597</td>\n",
       "      <td>0.483033</td>\n",
       "      <td>0.533309</td>\n",
       "      <td>1.448322</td>\n",
       "      <td>1.820360</td>\n",
       "      <td>1.662831</td>\n",
       "      <td>1.528763</td>\n",
       "      <td>1.284089</td>\n",
       "      <td>0.070775</td>\n",
       "      <td>0.888589</td>\n",
       "      <td>...</td>\n",
       "      <td>-0.540059</td>\n",
       "      <td>-0.498148</td>\n",
       "      <td>-0.498148</td>\n",
       "      <td>-0.405942</td>\n",
       "      <td>0.164054</td>\n",
       "      <td>0.331700</td>\n",
       "      <td>1.052577</td>\n",
       "      <td>1.220223</td>\n",
       "      <td>1.446545</td>\n",
       "      <td>2.670360</td>\n",
       "    </tr>\n",
       "    <tr>\n",
       "      <th>5597</th>\n",
       "      <td>5598</td>\n",
       "      <td>1.448322</td>\n",
       "      <td>1.820360</td>\n",
       "      <td>1.662831</td>\n",
       "      <td>1.528763</td>\n",
       "      <td>1.284089</td>\n",
       "      <td>0.070775</td>\n",
       "      <td>0.888589</td>\n",
       "      <td>1.545521</td>\n",
       "      <td>1.166779</td>\n",
       "      <td>...</td>\n",
       "      <td>-0.498148</td>\n",
       "      <td>-0.405942</td>\n",
       "      <td>0.164054</td>\n",
       "      <td>0.331700</td>\n",
       "      <td>1.052577</td>\n",
       "      <td>1.220223</td>\n",
       "      <td>1.446545</td>\n",
       "      <td>2.670360</td>\n",
       "      <td>2.620066</td>\n",
       "      <td>2.678742</td>\n",
       "    </tr>\n",
       "    <tr>\n",
       "      <th>5598</th>\n",
       "      <td>5599</td>\n",
       "      <td>1.662831</td>\n",
       "      <td>1.528763</td>\n",
       "      <td>1.284089</td>\n",
       "      <td>0.070775</td>\n",
       "      <td>0.888589</td>\n",
       "      <td>1.545521</td>\n",
       "      <td>1.166779</td>\n",
       "      <td>0.653970</td>\n",
       "      <td>0.409296</td>\n",
       "      <td>...</td>\n",
       "      <td>0.164054</td>\n",
       "      <td>0.331700</td>\n",
       "      <td>1.052577</td>\n",
       "      <td>1.220223</td>\n",
       "      <td>1.446545</td>\n",
       "      <td>2.670360</td>\n",
       "      <td>2.620066</td>\n",
       "      <td>2.678742</td>\n",
       "      <td>1.220223</td>\n",
       "      <td>0.725668</td>\n",
       "    </tr>\n",
       "  </tbody>\n",
       "</table>\n",
       "<p>5599 rows × 21 columns</p>\n",
       "</div>"
      ],
      "text/plain": [
       "      id_sequence  surge1_t0  surge1_t1  surge1_t2  surge1_t3  surge1_t4  \\\n",
       "0               1   0.586936   1.069580   0.767928  -0.100162   0.070775   \n",
       "1               2   0.767928  -0.100162   0.070775  -0.244285  -0.354891   \n",
       "2               3   0.070775  -0.244285  -0.354891  -0.928031  -0.773853   \n",
       "3               4  -0.354891  -0.928031  -0.773853  -0.375001  -0.361594   \n",
       "4               5  -0.773853  -0.375001  -0.361594  -0.210768   0.288635   \n",
       "...           ...        ...        ...        ...        ...        ...   \n",
       "5594         5595   1.451674   1.220407   0.556771   1.709754   0.483033   \n",
       "5595         5596   0.556771   1.709754   0.483033   0.533309   1.448322   \n",
       "5596         5597   0.483033   0.533309   1.448322   1.820360   1.662831   \n",
       "5597         5598   1.448322   1.820360   1.662831   1.528763   1.284089   \n",
       "5598         5599   1.662831   1.528763   1.284089   0.070775   0.888589   \n",
       "\n",
       "      surge1_t5  surge1_t6  surge1_t7  surge1_t8  ...  surge2_t0  surge2_t1  \\\n",
       "0     -0.244285  -0.354891  -0.928031  -0.773853  ...  -0.053886   0.356847   \n",
       "1     -0.928031  -0.773853  -0.375001  -0.361594  ...   0.348464   0.264641   \n",
       "2     -0.375001  -0.361594  -0.210768   0.288635  ...   0.901696   0.449052   \n",
       "3     -0.210768   0.288635  -0.726929  -0.576103  ...   0.113760  -0.422707   \n",
       "4     -0.726929  -0.576103   1.160076   0.442813  ...  -0.456236  -0.825057   \n",
       "...         ...        ...        ...        ...  ...        ...        ...   \n",
       "5594   0.533309   1.448322   1.820360   1.662831  ...   0.759197   0.884931   \n",
       "5595   1.820360   1.662831   1.528763   1.284089  ...   0.298171  -0.397560   \n",
       "5596   1.528763   1.284089   0.070775   0.888589  ...  -0.540059  -0.498148   \n",
       "5597   0.070775   0.888589   1.545521   1.166779  ...  -0.498148  -0.405942   \n",
       "5598   1.545521   1.166779   0.653970   0.409296  ...   0.164054   0.331700   \n",
       "\n",
       "      surge2_t2  surge2_t3  surge2_t4  surge2_t5  surge2_t6  surge2_t7  \\\n",
       "0      0.348464   0.264641   0.901696   0.449052   0.113760  -0.422707   \n",
       "1      0.901696   0.449052   0.113760  -0.422707  -0.456236  -0.825057   \n",
       "2      0.113760  -0.422707  -0.456236  -0.825057  -0.992703  -0.992703   \n",
       "3     -0.456236  -0.825057  -0.992703  -0.992703  -0.322119  -0.883733   \n",
       "4     -0.992703  -0.992703  -0.322119  -0.883733  -0.473001  -0.422707   \n",
       "...         ...        ...        ...        ...        ...        ...   \n",
       "5594   0.298171  -0.397560  -0.540059  -0.498148  -0.498148  -0.405942   \n",
       "5595  -0.540059  -0.498148  -0.498148  -0.405942   0.164054   0.331700   \n",
       "5596  -0.498148  -0.405942   0.164054   0.331700   1.052577   1.220223   \n",
       "5597   0.164054   0.331700   1.052577   1.220223   1.446545   2.670360   \n",
       "5598   1.052577   1.220223   1.446545   2.670360   2.620066   2.678742   \n",
       "\n",
       "      surge2_t8  surge2_t9  \n",
       "0     -0.456236  -0.825057  \n",
       "1     -0.992703  -0.992703  \n",
       "2     -0.322119  -0.883733  \n",
       "3     -0.473001  -0.422707  \n",
       "4     -0.473001  -0.531677  \n",
       "...         ...        ...  \n",
       "5594   0.164054   0.331700  \n",
       "5595   1.052577   1.220223  \n",
       "5596   1.446545   2.670360  \n",
       "5597   2.620066   2.678742  \n",
       "5598   1.220223   0.725668  \n",
       "\n",
       "[5599 rows x 21 columns]"
      ]
     },
     "execution_count": 109,
     "metadata": {},
     "output_type": "execute_result"
    }
   ],
   "source": [
    "Y_train"
   ]
  },
  {
   "cell_type": "code",
   "execution_count": 100,
   "metadata": {},
   "outputs": [],
   "source": [
    "slp = X_test['slp']\n",
    "t_surge1_output = X_test['t_surge1_output']\n",
    "t_surge2_output = X_test['t_surge2_output']\n",
    "t_surge1_input = X_test['t_surge1_input']\n",
    "t_surge2_input = X_test['t_surge2_input']"
   ]
  },
  {
   "cell_type": "code",
   "execution_count": 99,
   "metadata": {
    "scrolled": true
   },
   "outputs": [
    {
     "data": {
      "text/plain": [
       "array([-6.282468e+08, -6.282036e+08, -6.281604e+08, -6.281172e+08,\n",
       "       -6.280668e+08, -6.280272e+08, -6.279804e+08, -6.279372e+08,\n",
       "       -6.278940e+08, -6.278472e+08], dtype=float32)"
      ]
     },
     "execution_count": 99,
     "metadata": {},
     "output_type": "execute_result"
    }
   ],
   "source": [
    "t_surge1_input[13]"
   ]
  },
  {
   "cell_type": "code",
   "execution_count": 103,
   "metadata": {},
   "outputs": [
    {
     "data": {
      "text/plain": [
       "0.5"
      ]
     },
     "execution_count": 103,
     "metadata": {},
     "output_type": "execute_result"
    }
   ],
   "source": [
    "(t_surge1_output[19][0]-t_surge1_input[19][9])/(3600*24)"
   ]
  },
  {
   "cell_type": "code",
   "execution_count": 73,
   "metadata": {},
   "outputs": [
    {
     "data": {
      "text/plain": [
       "array([-6.003936e+08, -6.003468e+08, -6.003036e+08, -6.002568e+08,\n",
       "       -6.002136e+08, -6.001704e+08, -6.001272e+08, -6.000804e+08,\n",
       "       -6.000372e+08, -5.999940e+08], dtype=float32)"
      ]
     },
     "execution_count": 73,
     "metadata": {},
     "output_type": "execute_result"
    }
   ],
   "source": [
    "t_surge1_output[10]"
   ]
  },
  {
   "cell_type": "code",
   "execution_count": 21,
   "metadata": {},
   "outputs": [],
   "source": [
    "slp = X_train['slp']"
   ]
  },
  {
   "cell_type": "code",
   "execution_count": 30,
   "metadata": {
    "scrolled": true
   },
   "outputs": [
    {
     "data": {
      "text/plain": [
       "<matplotlib.image.AxesImage at 0x24398f1ddb0>"
      ]
     },
     "execution_count": 30,
     "metadata": {},
     "output_type": "execute_result"
    },
    {
     "data": {
      "image/png": "[encoded data removed]",
      "text/plain": [
       "<Figure size 432x288 with 1 Axes>"
      ]
     },
     "metadata": {
      "needs_background": "light"
     },
     "output_type": "display_data"
    }
   ],
   "source": [
    "plt.imshow(slp[0][30])"
   ]
  },
  {
   "cell_type": "code",
   "execution_count": 36,
   "metadata": {},
   "outputs": [],
   "source": [
    "w = np.linspace(1, 0.1, 10)[np.newaxis]"
   ]
  },
  {
   "cell_type": "code",
   "execution_count": 37,
   "metadata": {},
   "outputs": [
    {
     "data": {
      "text/plain": [
       "array([[1. , 0.9, 0.8, 0.7, 0.6, 0.5, 0.4, 0.3, 0.2, 0.1]])"
      ]
     },
     "execution_count": 37,
     "metadata": {},
     "output_type": "execute_result"
    }
   ],
   "source": [
    "w"
   ]
  },
  {
   "cell_type": "code",
   "execution_count": 4,
   "metadata": {},
   "outputs": [],
   "source": [
    "surge_train = np.array(Y_train)[:,1:]"
   ]
  },
  {
   "cell_type": "code",
   "execution_count": 5,
   "metadata": {},
   "outputs": [],
   "source": [
    "def surge_prediction_metric(dataframe_y_true, dataframe_y_pred):\n",
    "    weights = np.linspace(1, 0.1, 10)[np.newaxis]\n",
    "    surge1_columns = [\n",
    "        'surge1_t0', 'surge1_t1', 'surge1_t2', 'surge1_t3', 'surge1_t4',\n",
    "        'surge1_t5', 'surge1_t6', 'surge1_t7', 'surge1_t8', 'surge1_t9' ]\n",
    "    surge2_columns = [\n",
    "        'surge2_t0', 'surge2_t1', 'surge2_t2', 'surge2_t3', 'surge2_t4',\n",
    "        'surge2_t5', 'surge2_t6', 'surge2_t7', 'surge2_t8', 'surge2_t9' ]\n",
    "    surge1_score = (weights * (dataframe_y_true[surge1_columns].values - dataframe_y_pred[surge1_columns].values)**2).mean()\n",
    "    surge2_score = (weights * (dataframe_y_true[surge2_columns].values - dataframe_y_pred[surge2_columns].values)**2).mean()\n",
    "\n",
    "    return surge1_score + surge2_score"
   ]
  },
  {
   "cell_type": "markdown",
   "metadata": {},
   "source": [
    "## Benchmark\n",
    "Train using kNN of pressure fields at two instants in time, with 40 neighbours"
   ]
  },
  {
   "cell_type": "code",
   "execution_count": 6,
   "metadata": {},
   "outputs": [],
   "source": [
    "nfields = 2; time_step_slp = 8\n",
    "slp_train = []\n",
    "slp_all = X_train['slp']\n",
    "for i in range(5559):\n",
    "    slp_train.append(np.ndarray.flatten(slp_all[i,-1]))\n",
    "    for j in range(1,nfields):\n",
    "        slp_train[-1] = np.concatenate( ( slp_train[-1], np.ndarray.flatten(slp_all[i,-1-j*time_step_slp]) ) )\n",
    "slp_train = np.array(slp_train)"
   ]
  },
  {
   "cell_type": "code",
   "execution_count": 7,
   "metadata": {},
   "outputs": [],
   "source": [
    "slp_test = []\n",
    "slp_all_test = X_test['slp']\n",
    "for i in range(509):\n",
    "    slp_test.append(np.ndarray.flatten(slp_all_test[i,-1]))\n",
    "    for j in range(1,nfields):\n",
    "        slp_test[-1] = np.concatenate( ( slp_test[-1], np.ndarray.flatten(slp_all_test[i,-1-j*time_step_slp]) ) )\n",
    "slp_test = np.array(slp_test)"
   ]
  },
  {
   "cell_type": "code",
   "execution_count": 8,
   "metadata": {},
   "outputs": [],
   "source": [
    "tree = BallTree(slp_train)"
   ]
  },
  {
   "cell_type": "code",
   "execution_count": 9,
   "metadata": {},
   "outputs": [],
   "source": [
    "surge_test_benchmark = []; k = 40\n",
    "for i in range(509):\n",
    "    dist, ind = tree.query([slp_test[i]], k=k)\n",
    "    surge_test_benchmark.append(np.mean(surge_train[ind[0]], axis=0))\n",
    "surge_test_benchmark = np.array(surge_test_benchmark)"
   ]
  },
  {
   "cell_type": "code",
   "execution_count": 10,
   "metadata": {},
   "outputs": [],
   "source": [
    "y_columns = [f'surge1_t{i}' for i in range(10)] + [f'surge2_t{i}' for i in range(10)]\n",
    "y_test_benchmark = pd.DataFrame(data=surge_test_benchmark, columns=y_columns, index=X_test['id_sequence'])\n",
    "y_test_benchmark.to_csv('Y_test_benchmark.csv', index_label='id_sequence', sep=',')"
   ]
  },
  {
   "cell_type": "code",
   "execution_count": null,
   "metadata": {},
   "outputs": [],
   "source": []
  }
 ],
 "metadata": {
  "kernelspec": {
   "display_name": "Python 3 (ipykernel)",
   "language": "python",
   "name": "python3"
  },
  "language_info": {
   "codemirror_mode": {
    "name": "ipython",
    "version": 3
   },
   "file_extension": ".py",
   "mimetype": "text/x-python",
   "name": "python",
   "nbconvert_exporter": "python",
   "pygments_lexer": "ipython3",
   "version": "3.10.2"
  }
 },
 "nbformat": 4,
 "nbformat_minor": 2
}
