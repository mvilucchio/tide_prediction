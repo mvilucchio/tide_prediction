{
 "cells": [
  {
   "cell_type": "code",
   "execution_count": 1,
   "metadata": {},
   "outputs": [],
   "source": [
    "import numpy as np\n",
    "import pandas as pd\n",
    "from sklearn.neighbors import BallTree\n",
    "import matplotlib.pyplot as plt\n",
    "\n",
    "# multivariate multi-step encoder-decoder lstm example\n",
    "from numpy import array\n",
    "from numpy import hstack\n",
    "from keras.models import Sequential\n",
    "from keras.layers import LSTM\n",
    "from keras.layers import Dense\n",
    "from keras.layers import RepeatVector\n",
    "from keras.layers import TimeDistributed"
   ]
  },
  {
   "cell_type": "code",
   "execution_count": 2,
   "metadata": {},
   "outputs": [],
   "source": [
    "X_train = np.load('X_train_surge.npz')\n",
    "Y_train = pd.read_csv('Y_train_surge.csv')\n",
    "X_test = np.load('X_test_surge.npz')"
   ]
  },
  {
   "cell_type": "code",
   "execution_count": 3,
   "metadata": {},
   "outputs": [],
   "source": [
    "surge_train = np.array(Y_train)[:,1:]"
   ]
  },
  {
   "cell_type": "code",
   "execution_count": 4,
   "metadata": {},
   "outputs": [],
   "source": [
    "def surge_prediction_metric(dataframe_y_true, dataframe_y_pred):\n",
    "    weights = np.linspace(1, 0.1, 10)[np.newaxis]\n",
    "    surge1_columns = [\n",
    "        'surge1_t0', 'surge1_t1', 'surge1_t2', 'surge1_t3', 'surge1_t4',\n",
    "        'surge1_t5', 'surge1_t6', 'surge1_t7', 'surge1_t8', 'surge1_t9' ]\n",
    "    surge2_columns = [\n",
    "        'surge2_t0', 'surge2_t1', 'surge2_t2', 'surge2_t3', 'surge2_t4',\n",
    "        'surge2_t5', 'surge2_t6', 'surge2_t7', 'surge2_t8', 'surge2_t9' ]\n",
    "    surge1_score = (weights * (dataframe_y_true[surge1_columns].values - dataframe_y_pred[surge1_columns].values)**2).mean()\n",
    "    surge2_score = (weights * (dataframe_y_true[surge2_columns].values - dataframe_y_pred[surge2_columns].values)**2).mean()\n",
    "\n",
    "    return surge1_score + surge2_score"
   ]
  },
  {
   "cell_type": "code",
   "execution_count": 5,
   "metadata": {},
   "outputs": [],
   "source": [
    "def time_elapsed_hour(time_1, time_2):\n",
    "    return (time_2-time_1)/(3600)"
   ]
  },
  {
   "cell_type": "code",
   "execution_count": 6,
   "metadata": {},
   "outputs": [],
   "source": [
    "slp_train = X_train['slp']\n",
    "t_slp_train = X_train['t_slp']\n",
    "t_surge1_input_train = X_train['t_surge1_input']\n",
    "t_surge2_input_train = X_train['t_surge2_input']\n",
    "surge1_input_train = X_train['surge1_input']\n",
    "surge2_input_train = X_train['surge2_input']\n",
    "t_surge1_output_train = X_train['t_surge1_output']\n",
    "t_surge2_output_train = X_train['t_surge2_output']"
   ]
  },
  {
   "cell_type": "code",
   "execution_count": 7,
   "metadata": {},
   "outputs": [],
   "source": [
    "def format_t(data):\n",
    "    new_set = set()\n",
    "    for j in data:\n",
    "        for i in j:\n",
    "            new_set.add(i)\n",
    "    new_set=sorted(list(new_set))\n",
    "    return new_set\n",
    "\n",
    "t_slp_train_set = format_t(t_slp_train)"
   ]
  },
  {
   "cell_type": "code",
   "execution_count": 8,
   "metadata": {},
   "outputs": [],
   "source": [
    "# split a multivariate sequence into samples\n",
    "def split_sequences(sequences, n_steps_in, n_steps_out):\n",
    "\tX, y = list(), list()\n",
    "\tfor i in range(len(sequences)):\n",
    "\t\t# find the end of this pattern\n",
    "\t\tend_ix = i + n_steps_in\n",
    "\t\tout_end_ix = end_ix + n_steps_out\n",
    "\t\t# check if we are beyond the dataset\n",
    "\t\tif out_end_ix > len(sequences):\n",
    "\t\t\tbreak\n",
    "\t\t# gather input and output parts of the pattern\n",
    "\t\tseq_x, seq_y = sequences[i:end_ix, :], sequences[end_ix:out_end_ix, :]\n",
    "\t\tX.append(seq_x)\n",
    "\t\ty.append(seq_y)\n",
    "\treturn array(X), array(y)"
   ]
  },
  {
   "cell_type": "code",
   "execution_count": null,
   "metadata": {},
   "outputs": [],
   "source": [
    "j = 0\n",
    "for entry in slp_train:\n",
    "    #if time_elapsed_hour(t_slp_train[j][-1], t_slp_train[j+1][0])<4*3600:\n",
    "       # continue\n",
    "    i = 0\n",
    "    k = 0\n",
    "    dataset = np.zeros([14, 1681])\n",
    "    for image in entry:\n",
    "        if i%3==0:\n",
    "            dataset[k]=np.ndarray.flatten(image)\n",
    "            k += 1\n",
    "        i += 1\n",
    "    n_steps_in, n_steps_out = 3, 2\n",
    "    # covert into input/output\n",
    "    X_new, y_new = split_sequences(dataset, n_steps_in, n_steps_out)   \n",
    "    if j == 0:\n",
    "        X = np.array(X_new)\n",
    "        y = np.array(y_new)\n",
    "    else:\n",
    "        X = np.concatenate([X, X_new], axis=0)            \n",
    "        y = np.concatenate([y, y_new], axis=0) \n",
    "    j+=1\n",
    "    if j>2000:\n",
    "        break\n",
    "    print(j)"
   ]
  },
  {
   "cell_type": "code",
   "execution_count": 35,
   "metadata": {},
   "outputs": [
    {
     "data": {
      "text/plain": [
       "(20010, 3, 1681)"
      ]
     },
     "execution_count": 35,
     "metadata": {},
     "output_type": "execute_result"
    }
   ],
   "source": [
    "i = 0\n",
    "length = 20000 #len(t_slp_train_set)-1\n",
    "for j in range(length):\n",
    "    if time_elapsed_hour(t_slp_train_set[j], t_slp_train_set[j+1])>3.5:\n",
    "        dataset = slp_train_set[i:j+1]\n",
    "        n_steps_in, n_steps_out = 12, 5\n",
    "        # covert into input/output\n",
    "        X_new, y_new = split_sequences(dataset, n_steps_in, n_steps_out)   \n",
    "        if i == 0:\n",
    "            X = np.array(X_new)\n",
    "            y = np.array(y_new)\n",
    "        else:\n",
    "            X = np.concatenate([X, X_new], axis=0) \n",
    "            y = np.concatenate([y, y_new], axis=0) \n",
    "        i = j + 1\n",
    "        print(j)\n",
    "    else:\n",
    "        continue \n",
    "    "
   ]
  },
  {
   "cell_type": "code",
   "execution_count": null,
   "metadata": {},
   "outputs": [],
   "source": []
  },
  {
   "cell_type": "code",
   "execution_count": 95,
   "metadata": {},
   "outputs": [
    {
     "name": "stdout",
     "output_type": "stream",
     "text": [
      "1/1 [==============================] - 15s 15s/step\n",
      "[[[102868.61  102938.19  103002.75  ... 101588.93  101703.055 101704.32 ]\n",
      "  [102951.92  102998.484 103041.92  ... 101667.45  101767.25  101740.75 ]\n",
      "  [102955.64  103000.336 103042.52  ... 101671.51  101766.945 101743.39 ]\n",
      "  [102955.12  103000.47  103043.04  ... 101671.195 101767.234 101743.82 ]\n",
      "  [102955.21  103000.52  103043.    ... 101671.25  101767.266 101743.78 ]]\n",
      "\n",
      " [[102835.58  102933.055 102993.51  ... 101568.3   101702.086 101696.19 ]\n",
      "  [102919.34  102994.055 103032.195 ... 101647.016 101766.91  101732.734]\n",
      "  [102922.8   102995.49  103032.67  ... 101650.79  101766.37  101735.16 ]\n",
      "  [102922.266 102995.64  103033.195 ... 101650.48  101766.64  101735.586]\n",
      "  [102922.336 102995.68  103033.15  ... 101650.52  101766.67  101735.54 ]]\n",
      "\n",
      " [[102805.42  102925.73  102989.625 ... 101547.75  101698.88  101690.73 ]\n",
      "  [102890.07  102987.7   103028.64  ... 101627.4   101764.98  101727.58 ]\n",
      "  [102893.42  102988.96  103029.016 ... 101631.06  101764.21  101729.89 ]\n",
      "  [102892.875 102989.12  103029.56  ... 101630.75  101764.5   101730.33 ]\n",
      "  [102892.95  102989.164 103029.5   ... 101630.8   101764.53  101730.28 ]]]\n"
     ]
    }
   ],
   "source": [
    "# demonstrate prediction\n",
    "x_input = X[0:3]\n",
    "#x_input = x_input.reshape((1, n_steps_in, n_features))\n",
    "yhat = model.predict(x_input, verbose=1)\n",
    "print(yhat)"
   ]
  },
  {
   "cell_type": "code",
   "execution_count": null,
   "metadata": {},
   "outputs": [],
   "source": [
    "for j in range(3):\n",
    "    plt.imshow(x_input[0][j].reshape(41,41))\n",
    "    plt.show()"
   ]
  },
  {
   "cell_type": "code",
   "execution_count": 101,
   "metadata": {},
   "outputs": [
    {
     "data": {
      "text/plain": [
       "<matplotlib.image.AxesImage at 0x1bc0d02be20>"
      ]
     },
     "execution_count": 101,
     "metadata": {},
     "output_type": "execute_result"
    },
    {
     "data": {
      "image/png": "[encoded data removed]",
      "text/plain": [
       "<Figure size 432x288 with 1 Axes>"
      ]
     },
     "metadata": {
      "needs_background": "light"
     },
     "output_type": "display_data"
    }
   ],
   "source": [
    "plt.imshow(yhat[0][4].reshape(41,41))"
   ]
  },
  {
   "cell_type": "code",
   "execution_count": 102,
   "metadata": {},
   "outputs": [
    {
     "data": {
      "text/plain": [
       "<matplotlib.image.AxesImage at 0x1bc094a11f0>"
      ]
     },
     "execution_count": 102,
     "metadata": {},
     "output_type": "execute_result"
    },
    {
     "data": {
      "image/png": "[encoded data removed]",
      "text/plain": [
       "<Figure size 432x288 with 1 Axes>"
      ]
     },
     "metadata": {
      "needs_background": "light"
     },
     "output_type": "display_data"
    }
   ],
   "source": [
    "plt.imshow(y[0][4].reshape(41,41))"
   ]
  },
  {
   "cell_type": "code",
   "execution_count": null,
   "metadata": {},
   "outputs": [],
   "source": []
  },
  {
   "cell_type": "code",
   "execution_count": null,
   "metadata": {},
   "outputs": [],
   "source": []
  },
  {
   "cell_type": "code",
   "execution_count": null,
   "metadata": {},
   "outputs": [],
   "source": []
  },
  {
   "cell_type": "code",
   "execution_count": null,
   "metadata": {},
   "outputs": [],
   "source": []
  },
  {
   "cell_type": "code",
   "execution_count": null,
   "metadata": {},
   "outputs": [],
   "source": []
  }
 ],
 "metadata": {
  "interpreter": {
   "hash": "ff834fc3bbea3611a9fb1661940441cbf447a728521657f96a006c5524b5bbf1"
  },
  "kernelspec": {
   "display_name": "Python 3.9.10 64-bit",
   "language": "python",
   "name": "python3"
  },
  "language_info": {
   "codemirror_mode": {
    "name": "ipython",
    "version": 3
   },
   "file_extension": ".py",
   "mimetype": "text/x-python",
   "name": "python",
   "nbconvert_exporter": "python",
   "pygments_lexer": "ipython3",
   "version": "3.9.10"
  },
  "orig_nbformat": 4
 },
 "nbformat": 4,
 "nbformat_minor": 2
}
